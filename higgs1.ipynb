{
 "cells": [
  {
   "cell_type": "markdown",
   "id": "f5a1c606",
   "metadata": {},
   "source": [
    "### Higgs Boson Dataset Model\n",
    "\n",
    "https://www.kaggle.com/c/higgs-boson"
   ]
  },
  {
   "cell_type": "code",
   "execution_count": 127,
   "id": "51608911",
   "metadata": {},
   "outputs": [],
   "source": [
    "import pandas as pd\n",
    "import numpy as np\n",
    "from numpy.random import seed\n",
    "\n",
    "from sklearn.preprocessing import QuantileTransformer, LabelEncoder\n",
    "from sklearn.impute import SimpleImputer\n",
    "\n",
    "import tensorflow as tf\n",
    "from tensorflow.keras.layers import Dense, Layer, Input, BatchNormalization, Dropout, ReLU\n",
    "from tensorflow.keras import Model\n",
    "from tensorflow.keras.utils import plot_model\n",
    "\n",
    "# hyper-parameter tuning\n",
    "import optuna\n",
    "\n",
    "# for plotting\n",
    "import matplotlib.pyplot as plt"
   ]
  },
  {
   "cell_type": "code",
   "execution_count": 32,
   "id": "619737a0",
   "metadata": {},
   "outputs": [
    {
     "name": "stdout",
     "output_type": "stream",
     "text": [
      "2.3.2\n"
     ]
    }
   ],
   "source": [
    "print(tf.__version__)\n",
    "\n",
    "# Voglio essere sicuro della versione TF\n",
    "assert tf.__version__ >= \"2.3\""
   ]
  },
  {
   "cell_type": "code",
   "execution_count": 33,
   "id": "248e3bc4",
   "metadata": {},
   "outputs": [],
   "source": [
    "SEED = 1234\n",
    "\n",
    "# to make it more deterministic\n",
    "seed(SEED)\n",
    "tf.random.set_seed(SEED)"
   ]
  },
  {
   "cell_type": "code",
   "execution_count": 34,
   "id": "5d77f88b",
   "metadata": {},
   "outputs": [
    {
     "name": "stdout",
     "output_type": "stream",
     "text": [
      "Num GPUs Available:  1\n",
      "Standard strategy for GPU...\n",
      "REPLICAS: 1\n"
     ]
    }
   ],
   "source": [
    "# this is the code to setup the Strategy to work on multiple GPUs\n",
    "# we will set anyway as if we have multiple GPU\n",
    "DEVICE = \"GPU\"\n",
    "\n",
    "if DEVICE == \"GPU\":\n",
    "    n_gpu = len(tf.config.experimental.list_physical_devices('GPU'))\n",
    "    print(\"Num GPUs Available: \", n_gpu)\n",
    "    \n",
    "    if n_gpu > 1:\n",
    "        print(\"Using strategy for multiple GPU\")\n",
    "        strategy = tf.distribute.MirroredStrategy()\n",
    "    else:\n",
    "        print('Standard strategy for GPU...')\n",
    "        strategy = tf.distribute.get_strategy()\n",
    "\n",
    "AUTO     = tf.data.experimental.AUTOTUNE\n",
    "REPLICAS = strategy.num_replicas_in_sync\n",
    "\n",
    "print(f'REPLICAS: {REPLICAS}')"
   ]
  },
  {
   "cell_type": "code",
   "execution_count": 35,
   "id": "b766669c",
   "metadata": {},
   "outputs": [],
   "source": [
    "# globals\n",
    "BATCH_SIZE = 512\n",
    "\n"
   ]
  },
  {
   "cell_type": "markdown",
   "id": "f0af457f",
   "metadata": {},
   "source": [
    "### Read train dataset and split in train, validation"
   ]
  },
  {
   "cell_type": "code",
   "execution_count": 39,
   "id": "8f41efe8",
   "metadata": {},
   "outputs": [
    {
     "data": {
      "text/html": [
       "<div>\n",
       "<style scoped>\n",
       "    .dataframe tbody tr th:only-of-type {\n",
       "        vertical-align: middle;\n",
       "    }\n",
       "\n",
       "    .dataframe tbody tr th {\n",
       "        vertical-align: top;\n",
       "    }\n",
       "\n",
       "    .dataframe thead th {\n",
       "        text-align: right;\n",
       "    }\n",
       "</style>\n",
       "<table border=\"1\" class=\"dataframe\">\n",
       "  <thead>\n",
       "    <tr style=\"text-align: right;\">\n",
       "      <th></th>\n",
       "      <th>EventId</th>\n",
       "      <th>DER_mass_MMC</th>\n",
       "      <th>DER_mass_transverse_met_lep</th>\n",
       "      <th>DER_mass_vis</th>\n",
       "      <th>DER_pt_h</th>\n",
       "      <th>DER_deltaeta_jet_jet</th>\n",
       "      <th>DER_mass_jet_jet</th>\n",
       "      <th>DER_prodeta_jet_jet</th>\n",
       "      <th>DER_deltar_tau_lep</th>\n",
       "      <th>DER_pt_tot</th>\n",
       "      <th>...</th>\n",
       "      <th>PRI_jet_num</th>\n",
       "      <th>PRI_jet_leading_pt</th>\n",
       "      <th>PRI_jet_leading_eta</th>\n",
       "      <th>PRI_jet_leading_phi</th>\n",
       "      <th>PRI_jet_subleading_pt</th>\n",
       "      <th>PRI_jet_subleading_eta</th>\n",
       "      <th>PRI_jet_subleading_phi</th>\n",
       "      <th>PRI_jet_all_pt</th>\n",
       "      <th>Weight</th>\n",
       "      <th>Label</th>\n",
       "    </tr>\n",
       "  </thead>\n",
       "  <tbody>\n",
       "    <tr>\n",
       "      <th>0</th>\n",
       "      <td>100000</td>\n",
       "      <td>138.470</td>\n",
       "      <td>51.655</td>\n",
       "      <td>97.827</td>\n",
       "      <td>27.980</td>\n",
       "      <td>0.91</td>\n",
       "      <td>124.711</td>\n",
       "      <td>2.666</td>\n",
       "      <td>3.064</td>\n",
       "      <td>41.928</td>\n",
       "      <td>...</td>\n",
       "      <td>2</td>\n",
       "      <td>67.435</td>\n",
       "      <td>2.150</td>\n",
       "      <td>0.444</td>\n",
       "      <td>46.062</td>\n",
       "      <td>1.24</td>\n",
       "      <td>-2.475</td>\n",
       "      <td>113.497</td>\n",
       "      <td>0.002653</td>\n",
       "      <td>s</td>\n",
       "    </tr>\n",
       "    <tr>\n",
       "      <th>1</th>\n",
       "      <td>100001</td>\n",
       "      <td>160.937</td>\n",
       "      <td>68.768</td>\n",
       "      <td>103.235</td>\n",
       "      <td>48.146</td>\n",
       "      <td>-999.00</td>\n",
       "      <td>-999.000</td>\n",
       "      <td>-999.000</td>\n",
       "      <td>3.473</td>\n",
       "      <td>2.078</td>\n",
       "      <td>...</td>\n",
       "      <td>1</td>\n",
       "      <td>46.226</td>\n",
       "      <td>0.725</td>\n",
       "      <td>1.158</td>\n",
       "      <td>-999.000</td>\n",
       "      <td>-999.00</td>\n",
       "      <td>-999.000</td>\n",
       "      <td>46.226</td>\n",
       "      <td>2.233584</td>\n",
       "      <td>b</td>\n",
       "    </tr>\n",
       "    <tr>\n",
       "      <th>2</th>\n",
       "      <td>100002</td>\n",
       "      <td>-999.000</td>\n",
       "      <td>162.172</td>\n",
       "      <td>125.953</td>\n",
       "      <td>35.635</td>\n",
       "      <td>-999.00</td>\n",
       "      <td>-999.000</td>\n",
       "      <td>-999.000</td>\n",
       "      <td>3.148</td>\n",
       "      <td>9.336</td>\n",
       "      <td>...</td>\n",
       "      <td>1</td>\n",
       "      <td>44.251</td>\n",
       "      <td>2.053</td>\n",
       "      <td>-2.028</td>\n",
       "      <td>-999.000</td>\n",
       "      <td>-999.00</td>\n",
       "      <td>-999.000</td>\n",
       "      <td>44.251</td>\n",
       "      <td>2.347389</td>\n",
       "      <td>b</td>\n",
       "    </tr>\n",
       "    <tr>\n",
       "      <th>3</th>\n",
       "      <td>100003</td>\n",
       "      <td>143.905</td>\n",
       "      <td>81.417</td>\n",
       "      <td>80.943</td>\n",
       "      <td>0.414</td>\n",
       "      <td>-999.00</td>\n",
       "      <td>-999.000</td>\n",
       "      <td>-999.000</td>\n",
       "      <td>3.310</td>\n",
       "      <td>0.414</td>\n",
       "      <td>...</td>\n",
       "      <td>0</td>\n",
       "      <td>-999.000</td>\n",
       "      <td>-999.000</td>\n",
       "      <td>-999.000</td>\n",
       "      <td>-999.000</td>\n",
       "      <td>-999.00</td>\n",
       "      <td>-999.000</td>\n",
       "      <td>-0.000</td>\n",
       "      <td>5.446378</td>\n",
       "      <td>b</td>\n",
       "    </tr>\n",
       "    <tr>\n",
       "      <th>4</th>\n",
       "      <td>100004</td>\n",
       "      <td>175.864</td>\n",
       "      <td>16.915</td>\n",
       "      <td>134.805</td>\n",
       "      <td>16.405</td>\n",
       "      <td>-999.00</td>\n",
       "      <td>-999.000</td>\n",
       "      <td>-999.000</td>\n",
       "      <td>3.891</td>\n",
       "      <td>16.405</td>\n",
       "      <td>...</td>\n",
       "      <td>0</td>\n",
       "      <td>-999.000</td>\n",
       "      <td>-999.000</td>\n",
       "      <td>-999.000</td>\n",
       "      <td>-999.000</td>\n",
       "      <td>-999.00</td>\n",
       "      <td>-999.000</td>\n",
       "      <td>0.000</td>\n",
       "      <td>6.245333</td>\n",
       "      <td>b</td>\n",
       "    </tr>\n",
       "  </tbody>\n",
       "</table>\n",
       "<p>5 rows × 33 columns</p>\n",
       "</div>"
      ],
      "text/plain": [
       "   EventId  DER_mass_MMC  DER_mass_transverse_met_lep  DER_mass_vis  DER_pt_h  \\\n",
       "0   100000       138.470                       51.655        97.827    27.980   \n",
       "1   100001       160.937                       68.768       103.235    48.146   \n",
       "2   100002      -999.000                      162.172       125.953    35.635   \n",
       "3   100003       143.905                       81.417        80.943     0.414   \n",
       "4   100004       175.864                       16.915       134.805    16.405   \n",
       "\n",
       "   DER_deltaeta_jet_jet  DER_mass_jet_jet  DER_prodeta_jet_jet  \\\n",
       "0                  0.91           124.711                2.666   \n",
       "1               -999.00          -999.000             -999.000   \n",
       "2               -999.00          -999.000             -999.000   \n",
       "3               -999.00          -999.000             -999.000   \n",
       "4               -999.00          -999.000             -999.000   \n",
       "\n",
       "   DER_deltar_tau_lep  DER_pt_tot  ...  PRI_jet_num  PRI_jet_leading_pt  \\\n",
       "0               3.064      41.928  ...            2              67.435   \n",
       "1               3.473       2.078  ...            1              46.226   \n",
       "2               3.148       9.336  ...            1              44.251   \n",
       "3               3.310       0.414  ...            0            -999.000   \n",
       "4               3.891      16.405  ...            0            -999.000   \n",
       "\n",
       "   PRI_jet_leading_eta  PRI_jet_leading_phi  PRI_jet_subleading_pt  \\\n",
       "0                2.150                0.444                 46.062   \n",
       "1                0.725                1.158               -999.000   \n",
       "2                2.053               -2.028               -999.000   \n",
       "3             -999.000             -999.000               -999.000   \n",
       "4             -999.000             -999.000               -999.000   \n",
       "\n",
       "   PRI_jet_subleading_eta  PRI_jet_subleading_phi  PRI_jet_all_pt    Weight  \\\n",
       "0                    1.24                  -2.475         113.497  0.002653   \n",
       "1                 -999.00                -999.000          46.226  2.233584   \n",
       "2                 -999.00                -999.000          44.251  2.347389   \n",
       "3                 -999.00                -999.000          -0.000  5.446378   \n",
       "4                 -999.00                -999.000           0.000  6.245333   \n",
       "\n",
       "   Label  \n",
       "0      s  \n",
       "1      b  \n",
       "2      b  \n",
       "3      b  \n",
       "4      b  \n",
       "\n",
       "[5 rows x 33 columns]"
      ]
     },
     "execution_count": 39,
     "metadata": {},
     "output_type": "execute_result"
    }
   ],
   "source": [
    "orig_data = pd.read_csv('training.csv')\n",
    "\n",
    "orig_data.head()"
   ]
  },
  {
   "cell_type": "code",
   "execution_count": 40,
   "id": "5d732e4f",
   "metadata": {},
   "outputs": [],
   "source": [
    "# eventID can be dropped, together weight\n",
    "cols = list(orig_data.columns)\n",
    "\n",
    "to_drop = ['EventId', 'Weight']\n",
    "\n",
    "cols = [c for c in cols if c not in to_drop]\n",
    "TARGET = 'Label'\n",
    "\n",
    "features = [c for c in cols if c != TARGET]\n",
    "\n",
    "N_FEATURES = len(features)\n",
    "\n",
    "# seleziono solo le colonne che voglio\n",
    "data = orig_data[cols]"
   ]
  },
  {
   "cell_type": "code",
   "execution_count": 41,
   "id": "6d4f6794",
   "metadata": {},
   "outputs": [
    {
     "data": {
      "text/html": [
       "<div>\n",
       "<style scoped>\n",
       "    .dataframe tbody tr th:only-of-type {\n",
       "        vertical-align: middle;\n",
       "    }\n",
       "\n",
       "    .dataframe tbody tr th {\n",
       "        vertical-align: top;\n",
       "    }\n",
       "\n",
       "    .dataframe thead th {\n",
       "        text-align: right;\n",
       "    }\n",
       "</style>\n",
       "<table border=\"1\" class=\"dataframe\">\n",
       "  <thead>\n",
       "    <tr style=\"text-align: right;\">\n",
       "      <th></th>\n",
       "      <th>DER_mass_MMC</th>\n",
       "      <th>DER_mass_transverse_met_lep</th>\n",
       "      <th>DER_mass_vis</th>\n",
       "      <th>DER_pt_h</th>\n",
       "      <th>DER_deltaeta_jet_jet</th>\n",
       "      <th>DER_mass_jet_jet</th>\n",
       "      <th>DER_prodeta_jet_jet</th>\n",
       "      <th>DER_deltar_tau_lep</th>\n",
       "      <th>DER_pt_tot</th>\n",
       "      <th>DER_sum_pt</th>\n",
       "      <th>...</th>\n",
       "      <th>PRI_met_sumet</th>\n",
       "      <th>PRI_jet_num</th>\n",
       "      <th>PRI_jet_leading_pt</th>\n",
       "      <th>PRI_jet_leading_eta</th>\n",
       "      <th>PRI_jet_leading_phi</th>\n",
       "      <th>PRI_jet_subleading_pt</th>\n",
       "      <th>PRI_jet_subleading_eta</th>\n",
       "      <th>PRI_jet_subleading_phi</th>\n",
       "      <th>PRI_jet_all_pt</th>\n",
       "      <th>Label</th>\n",
       "    </tr>\n",
       "  </thead>\n",
       "  <tbody>\n",
       "    <tr>\n",
       "      <th>0</th>\n",
       "      <td>138.470</td>\n",
       "      <td>51.655</td>\n",
       "      <td>97.827</td>\n",
       "      <td>27.980</td>\n",
       "      <td>0.91</td>\n",
       "      <td>124.711</td>\n",
       "      <td>2.666</td>\n",
       "      <td>3.064</td>\n",
       "      <td>41.928</td>\n",
       "      <td>197.760</td>\n",
       "      <td>...</td>\n",
       "      <td>258.733</td>\n",
       "      <td>2</td>\n",
       "      <td>67.435</td>\n",
       "      <td>2.150</td>\n",
       "      <td>0.444</td>\n",
       "      <td>46.062</td>\n",
       "      <td>1.24</td>\n",
       "      <td>-2.475</td>\n",
       "      <td>113.497</td>\n",
       "      <td>s</td>\n",
       "    </tr>\n",
       "    <tr>\n",
       "      <th>1</th>\n",
       "      <td>160.937</td>\n",
       "      <td>68.768</td>\n",
       "      <td>103.235</td>\n",
       "      <td>48.146</td>\n",
       "      <td>-999.00</td>\n",
       "      <td>-999.000</td>\n",
       "      <td>-999.000</td>\n",
       "      <td>3.473</td>\n",
       "      <td>2.078</td>\n",
       "      <td>125.157</td>\n",
       "      <td>...</td>\n",
       "      <td>164.546</td>\n",
       "      <td>1</td>\n",
       "      <td>46.226</td>\n",
       "      <td>0.725</td>\n",
       "      <td>1.158</td>\n",
       "      <td>-999.000</td>\n",
       "      <td>-999.00</td>\n",
       "      <td>-999.000</td>\n",
       "      <td>46.226</td>\n",
       "      <td>b</td>\n",
       "    </tr>\n",
       "    <tr>\n",
       "      <th>2</th>\n",
       "      <td>-999.000</td>\n",
       "      <td>162.172</td>\n",
       "      <td>125.953</td>\n",
       "      <td>35.635</td>\n",
       "      <td>-999.00</td>\n",
       "      <td>-999.000</td>\n",
       "      <td>-999.000</td>\n",
       "      <td>3.148</td>\n",
       "      <td>9.336</td>\n",
       "      <td>197.814</td>\n",
       "      <td>...</td>\n",
       "      <td>260.414</td>\n",
       "      <td>1</td>\n",
       "      <td>44.251</td>\n",
       "      <td>2.053</td>\n",
       "      <td>-2.028</td>\n",
       "      <td>-999.000</td>\n",
       "      <td>-999.00</td>\n",
       "      <td>-999.000</td>\n",
       "      <td>44.251</td>\n",
       "      <td>b</td>\n",
       "    </tr>\n",
       "    <tr>\n",
       "      <th>3</th>\n",
       "      <td>143.905</td>\n",
       "      <td>81.417</td>\n",
       "      <td>80.943</td>\n",
       "      <td>0.414</td>\n",
       "      <td>-999.00</td>\n",
       "      <td>-999.000</td>\n",
       "      <td>-999.000</td>\n",
       "      <td>3.310</td>\n",
       "      <td>0.414</td>\n",
       "      <td>75.968</td>\n",
       "      <td>...</td>\n",
       "      <td>86.062</td>\n",
       "      <td>0</td>\n",
       "      <td>-999.000</td>\n",
       "      <td>-999.000</td>\n",
       "      <td>-999.000</td>\n",
       "      <td>-999.000</td>\n",
       "      <td>-999.00</td>\n",
       "      <td>-999.000</td>\n",
       "      <td>-0.000</td>\n",
       "      <td>b</td>\n",
       "    </tr>\n",
       "    <tr>\n",
       "      <th>4</th>\n",
       "      <td>175.864</td>\n",
       "      <td>16.915</td>\n",
       "      <td>134.805</td>\n",
       "      <td>16.405</td>\n",
       "      <td>-999.00</td>\n",
       "      <td>-999.000</td>\n",
       "      <td>-999.000</td>\n",
       "      <td>3.891</td>\n",
       "      <td>16.405</td>\n",
       "      <td>57.983</td>\n",
       "      <td>...</td>\n",
       "      <td>53.131</td>\n",
       "      <td>0</td>\n",
       "      <td>-999.000</td>\n",
       "      <td>-999.000</td>\n",
       "      <td>-999.000</td>\n",
       "      <td>-999.000</td>\n",
       "      <td>-999.00</td>\n",
       "      <td>-999.000</td>\n",
       "      <td>0.000</td>\n",
       "      <td>b</td>\n",
       "    </tr>\n",
       "  </tbody>\n",
       "</table>\n",
       "<p>5 rows × 31 columns</p>\n",
       "</div>"
      ],
      "text/plain": [
       "   DER_mass_MMC  DER_mass_transverse_met_lep  DER_mass_vis  DER_pt_h  \\\n",
       "0       138.470                       51.655        97.827    27.980   \n",
       "1       160.937                       68.768       103.235    48.146   \n",
       "2      -999.000                      162.172       125.953    35.635   \n",
       "3       143.905                       81.417        80.943     0.414   \n",
       "4       175.864                       16.915       134.805    16.405   \n",
       "\n",
       "   DER_deltaeta_jet_jet  DER_mass_jet_jet  DER_prodeta_jet_jet  \\\n",
       "0                  0.91           124.711                2.666   \n",
       "1               -999.00          -999.000             -999.000   \n",
       "2               -999.00          -999.000             -999.000   \n",
       "3               -999.00          -999.000             -999.000   \n",
       "4               -999.00          -999.000             -999.000   \n",
       "\n",
       "   DER_deltar_tau_lep  DER_pt_tot  DER_sum_pt  ...  PRI_met_sumet  \\\n",
       "0               3.064      41.928     197.760  ...        258.733   \n",
       "1               3.473       2.078     125.157  ...        164.546   \n",
       "2               3.148       9.336     197.814  ...        260.414   \n",
       "3               3.310       0.414      75.968  ...         86.062   \n",
       "4               3.891      16.405      57.983  ...         53.131   \n",
       "\n",
       "   PRI_jet_num  PRI_jet_leading_pt  PRI_jet_leading_eta  PRI_jet_leading_phi  \\\n",
       "0            2              67.435                2.150                0.444   \n",
       "1            1              46.226                0.725                1.158   \n",
       "2            1              44.251                2.053               -2.028   \n",
       "3            0            -999.000             -999.000             -999.000   \n",
       "4            0            -999.000             -999.000             -999.000   \n",
       "\n",
       "   PRI_jet_subleading_pt  PRI_jet_subleading_eta  PRI_jet_subleading_phi  \\\n",
       "0                 46.062                    1.24                  -2.475   \n",
       "1               -999.000                 -999.00                -999.000   \n",
       "2               -999.000                 -999.00                -999.000   \n",
       "3               -999.000                 -999.00                -999.000   \n",
       "4               -999.000                 -999.00                -999.000   \n",
       "\n",
       "   PRI_jet_all_pt  Label  \n",
       "0         113.497      s  \n",
       "1          46.226      b  \n",
       "2          44.251      b  \n",
       "3          -0.000      b  \n",
       "4           0.000      b  \n",
       "\n",
       "[5 rows x 31 columns]"
      ]
     },
     "execution_count": 41,
     "metadata": {},
     "output_type": "execute_result"
    }
   ],
   "source": [
    "data.head()"
   ]
  },
  {
   "cell_type": "code",
   "execution_count": 42,
   "id": "451670da",
   "metadata": {},
   "outputs": [
    {
     "name": "stdout",
     "output_type": "stream",
     "text": [
      "Number of train samples: 225000\n",
      "Number of validation samples: 25000\n"
     ]
    }
   ],
   "source": [
    "# split in train, valid\n",
    "\n",
    "# shuffle\n",
    "data = data.sample(frac = 1.)\n",
    "\n",
    "TRAIN_FRAC = 0.9\n",
    "NUM_TRAIN = int(data.shape[0] * TRAIN_FRAC)\n",
    "\n",
    "df_train = data[0:NUM_TRAIN]\n",
    "df_valid = data[NUM_TRAIN:]\n",
    "\n",
    "print('Number of train samples:', df_train.shape[0])\n",
    "print('Number of validation samples:', df_valid.shape[0])"
   ]
  },
  {
   "cell_type": "code",
   "execution_count": 43,
   "id": "edb20466",
   "metadata": {},
   "outputs": [],
   "source": [
    "# prepariamo X, y per train, validation\n",
    "\n",
    "# X\n",
    "\n",
    "X_train = df_train[features].values\n",
    "X_valid = df_valid[features].values\n",
    "\n",
    "y_train = df_train[TARGET].values\n",
    "y_valid = df_valid[TARGET].values"
   ]
  },
  {
   "cell_type": "code",
   "execution_count": 44,
   "id": "f6dc6d27",
   "metadata": {},
   "outputs": [],
   "source": [
    "# in questo modo elimino i -999\n",
    "\n",
    "imp = SimpleImputer(missing_values=-999.00, strategy='median')\n",
    "\n",
    "X_train = imp.fit_transform(X_train)\n",
    "X_valid = imp.fit_transform(X_valid)"
   ]
  },
  {
   "cell_type": "code",
   "execution_count": 45,
   "id": "d5f59370",
   "metadata": {},
   "outputs": [],
   "source": [
    "# applichiamo QuantileTransformer ad X\n",
    "\n",
    "qt = QuantileTransformer(output_distribution = 'normal', n_quantiles = 10000)\n",
    "\n",
    "X_train_qt = qt.fit_transform(X_train)\n",
    "\n",
    "X_valid_qt = qt.fit_transform(X_valid)"
   ]
  },
  {
   "cell_type": "markdown",
   "id": "fc7f0ced",
   "metadata": {},
   "source": [
    "### vediamo distribuzione prima e dopo"
   ]
  },
  {
   "cell_type": "code",
   "execution_count": 124,
   "id": "a9707749",
   "metadata": {},
   "outputs": [],
   "source": [
    "def plot_histo_features(X):\n",
    "    plt.figure(figsize = (20, 10))\n",
    "\n",
    "    for col in range(N_FEATURES):\n",
    "        plt.subplot(3, 10, col + 1)\n",
    "        plt.title(str(col + 1))\n",
    "        plt.hist(X[col], bins=32)\n",
    "        plt.grid(True)\n",
    "    \n",
    "    plt.show()"
   ]
  },
  {
   "cell_type": "code",
   "execution_count": 125,
   "id": "72ef7c28",
   "metadata": {},
   "outputs": [
    {
     "data": {
      "image/png": "[encoded data removed]",
      "text/plain": [
       "<Figure size 1440x720 with 30 Axes>"
      ]
     },
     "metadata": {
      "needs_background": "light"
     },
     "output_type": "display_data"
    }
   ],
   "source": [
    "plot_histo_features(X_train)"
   ]
  },
  {
   "cell_type": "markdown",
   "id": "5b9f3961",
   "metadata": {},
   "source": [
    "### dopo la QuantileTransformation"
   ]
  },
  {
   "cell_type": "code",
   "execution_count": 126,
   "id": "bdcb8223",
   "metadata": {},
   "outputs": [
    {
     "data": {
      "image/png": "[encoded data removed]",
      "text/plain": [
       "<Figure size 1440x720 with 30 Axes>"
      ]
     },
     "metadata": {
      "needs_background": "light"
     },
     "output_type": "display_data"
    }
   ],
   "source": [
    "plot_histo_features(X_train_qt)"
   ]
  },
  {
   "cell_type": "code",
   "execution_count": 48,
   "id": "9ff01a76",
   "metadata": {},
   "outputs": [],
   "source": [
    "# processo le label\n",
    "\n",
    "le = LabelEncoder()\n",
    "\n",
    "le.fit(y_train)\n",
    "\n",
    "y_train_enc = le.transform(y_train)\n",
    "y_valid_enc = le.transform(y_valid)"
   ]
  },
  {
   "cell_type": "code",
   "execution_count": 49,
   "id": "fda06d49",
   "metadata": {},
   "outputs": [],
   "source": [
    "# OK: signal = 1, b = 0\n",
    "\n",
    "# OK, a questo punto X_train_qt ed X_valid_qt hanno media zero e std = 1 OK"
   ]
  },
  {
   "cell_type": "code",
   "execution_count": 157,
   "id": "e75d72cb",
   "metadata": {},
   "outputs": [],
   "source": [
    "# beh... non sono sicuro... sono ritornato a Layer\n",
    "# con model posso fare però il summary\n",
    "\n",
    "# in questo modo funziona la creazione di un ResidualBlock\n",
    "\n",
    "class MyResidualBlock(Layer):\n",
    "    def __init__(self, units, dropout_rate1, dropout_rate2, name=''):\n",
    "        super().__init__(name=name)\n",
    "        self.units = units\n",
    "        # inner dropout rate\n",
    "        self.dropout_rate1 = dropout_rate1\n",
    "        # outer dropout rate\n",
    "        self.dropout_rate2 = dropout_rate2\n",
    "        \n",
    "        self.bn1 = BatchNormalization()\n",
    "        self.dense1 = Dense(units=self.units, activation=\"relu\")\n",
    "        self.dropout1 = Dropout(self.dropout_rate1)\n",
    "        self.dense2 = Dense(units=self.units, activation=None)\n",
    "        self.dropout2 = Dropout(self.dropout_rate2)\n",
    "    \n",
    "    def call(self, inputs):\n",
    "        # print('input shape:', inputs.shape)\n",
    "        \n",
    "        x = self.bn1(inputs)\n",
    "        x = self.dense1(x)\n",
    "        x = self.dropout1(x)\n",
    "        x = self.dense2(x)\n",
    "        \n",
    "        # sommando implemento il residual block\n",
    "        out = self.dropout2(x) + inputs\n",
    "        \n",
    "        return out"
   ]
  },
  {
   "cell_type": "code",
   "execution_count": 158,
   "id": "8cce65f7",
   "metadata": {},
   "outputs": [],
   "source": [
    "# let's test it\n",
    "block = MyResidualBlock(30, 0.3, 0.3, name='rb1')\n",
    "\n",
    "_ = block(tf.zeros([1, 30]))\n",
    "\n",
    "# block.summary()"
   ]
  },
  {
   "cell_type": "code",
   "execution_count": 173,
   "id": "a684e6ae",
   "metadata": {},
   "outputs": [],
   "source": [
    "# qui definisco il modello completo\n",
    "\n",
    "class ModelResidual(Model):\n",
    "    def __init__(self, n_blocks, hidden_drop, **kwargs):\n",
    "        super().__init__(**kwargs)\n",
    "        self.n_blocks = n_blocks\n",
    "        \n",
    "        # first linear\n",
    "        self.f_linear = Dense(N_FEATURES, activation=None)\n",
    "        \n",
    "        self.hidden = []\n",
    "        \n",
    "        # aggiunge la parte di residual block\n",
    "        for l in range(self.n_blocks):\n",
    "            self.hidden.append(MyResidualBlock(N_FEATURES, hidden_drop, 0, name='rb' + str(l)))\n",
    "        \n",
    "        # final layer\n",
    "        self.bn = BatchNormalization()\n",
    "        self.relu = ReLU()\n",
    "        self.out = Dense(1, activation=\"sigmoid\")\n",
    "        \n",
    "    def call(self, inputs):\n",
    "        x = inputs\n",
    "        \n",
    "        # first linear\n",
    "        x = self.f_linear(x)\n",
    "        \n",
    "        for l in range(self.n_blocks):\n",
    "            x = self.hidden[l](x)\n",
    "        \n",
    "        # aggiunto BN finale\n",
    "        x = self.bn(x)\n",
    "        # aggiunto relu\n",
    "        x = self.relu(x)\n",
    "        out = self.out(x)\n",
    "        \n",
    "        return out"
   ]
  },
  {
   "cell_type": "code",
   "execution_count": 174,
   "id": "57e3777a",
   "metadata": {},
   "outputs": [],
   "source": [
    "# for optuna\n",
    "\n",
    "def build_model(n_blocks, hidden_drop, lr=0.001):\n",
    "    model = ModelResidual(n_blocks = n_blocks, hidden_drop = hidden_drop)\n",
    "    \n",
    "    opt = tf.keras.optimizers.Adam(learning_rate=lr)\n",
    "    model.compile(optimizer=opt, loss='binary_crossentropy', metrics=['AUC'])\n",
    "    \n",
    "    return model"
   ]
  },
  {
   "cell_type": "code",
   "execution_count": 175,
   "id": "effabc45",
   "metadata": {},
   "outputs": [],
   "source": [
    "with strategy.scope():\n",
    "    # il valore indicato da Optuna\n",
    "    model = build_model(n_blocks = 8, hidden_drop = 0.2)\n",
    "    model.compile(optimizer='adam', loss='binary_crossentropy', metrics=['AUC'])"
   ]
  },
  {
   "cell_type": "code",
   "execution_count": 176,
   "id": "59adb8fa",
   "metadata": {},
   "outputs": [
    {
     "data": {
      "text/plain": [
       "[<tensorflow.python.keras.layers.core.Dense at 0x7f83ac3d8610>,\n",
       " <__main__.MyResidualBlock at 0x7f84015bd050>,\n",
       " <__main__.MyResidualBlock at 0x7f8402d84410>,\n",
       " <__main__.MyResidualBlock at 0x7f8402da7d90>,\n",
       " <__main__.MyResidualBlock at 0x7f84015c8850>,\n",
       " <__main__.MyResidualBlock at 0x7f84601a3990>,\n",
       " <__main__.MyResidualBlock at 0x7f84601a3710>,\n",
       " <__main__.MyResidualBlock at 0x7f8402d84490>,\n",
       " <__main__.MyResidualBlock at 0x7f8410400a50>,\n",
       " <tensorflow.python.keras.layers.normalization_v2.BatchNormalization at 0x7f8460b9d950>,\n",
       " <tensorflow.python.keras.layers.advanced_activations.ReLU at 0x7f8402d1f150>,\n",
       " <tensorflow.python.keras.layers.core.Dense at 0x7f8402d1f4d0>]"
      ]
     },
     "execution_count": 176,
     "metadata": {},
     "output_type": "execute_result"
    }
   ],
   "source": [
    "model.layers"
   ]
  },
  {
   "cell_type": "code",
   "execution_count": 163,
   "id": "9aef1123",
   "metadata": {},
   "outputs": [
    {
     "name": "stdout",
     "output_type": "stream",
     "text": [
      "Epoch 1/100\n",
      "440/440 [==============================] - 4s 9ms/step - loss: 0.4529 - auc: 0.8470 - val_loss: 0.3894 - val_auc: 0.8913\n",
      "Epoch 2/100\n",
      "440/440 [==============================] - 3s 8ms/step - loss: 0.3936 - auc: 0.8884 - val_loss: 0.3746 - val_auc: 0.8996\n",
      "Epoch 3/100\n",
      "440/440 [==============================] - 3s 8ms/step - loss: 0.3842 - auc: 0.8941 - val_loss: 0.3675 - val_auc: 0.9039\n",
      "Epoch 4/100\n",
      "440/440 [==============================] - 4s 8ms/step - loss: 0.3782 - auc: 0.8976 - val_loss: 0.3659 - val_auc: 0.9053\n",
      "Epoch 5/100\n",
      "440/440 [==============================] - 3s 8ms/step - loss: 0.3744 - auc: 0.8997 - val_loss: 0.3638 - val_auc: 0.9052\n",
      "Epoch 6/100\n",
      "440/440 [==============================] - 3s 8ms/step - loss: 0.3717 - auc: 0.9013 - val_loss: 0.3676 - val_auc: 0.9058\n",
      "Epoch 7/100\n",
      "440/440 [==============================] - 3s 8ms/step - loss: 0.3693 - auc: 0.9026 - val_loss: 0.3596 - val_auc: 0.9081\n",
      "Epoch 8/100\n",
      "440/440 [==============================] - 3s 8ms/step - loss: 0.3675 - auc: 0.9036 - val_loss: 0.3581 - val_auc: 0.9088\n",
      "Epoch 9/100\n",
      "440/440 [==============================] - 4s 8ms/step - loss: 0.3663 - auc: 0.9043 - val_loss: 0.3586 - val_auc: 0.9091\n",
      "Epoch 10/100\n",
      "440/440 [==============================] - 4s 8ms/step - loss: 0.3647 - auc: 0.9052 - val_loss: 0.3560 - val_auc: 0.9099\n",
      "Epoch 11/100\n",
      "440/440 [==============================] - 3s 8ms/step - loss: 0.3634 - auc: 0.9059 - val_loss: 0.3546 - val_auc: 0.9104\n",
      "Epoch 12/100\n",
      "440/440 [==============================] - 3s 8ms/step - loss: 0.3624 - auc: 0.9064 - val_loss: 0.3562 - val_auc: 0.9104\n",
      "Epoch 13/100\n",
      "440/440 [==============================] - 4s 8ms/step - loss: 0.3614 - auc: 0.9070 - val_loss: 0.3536 - val_auc: 0.9109\n",
      "Epoch 14/100\n",
      "440/440 [==============================] - 3s 8ms/step - loss: 0.3612 - auc: 0.9070 - val_loss: 0.3539 - val_auc: 0.9106\n",
      "Epoch 15/100\n",
      "440/440 [==============================] - 3s 8ms/step - loss: 0.3600 - auc: 0.9077 - val_loss: 0.3552 - val_auc: 0.9104\n",
      "Epoch 16/100\n",
      "440/440 [==============================] - 3s 8ms/step - loss: 0.3595 - auc: 0.9080 - val_loss: 0.3540 - val_auc: 0.9109\n",
      "Epoch 17/100\n",
      "440/440 [==============================] - 3s 8ms/step - loss: 0.3590 - auc: 0.9083 - val_loss: 0.3524 - val_auc: 0.9114\n",
      "Epoch 18/100\n",
      "440/440 [==============================] - 4s 8ms/step - loss: 0.3581 - auc: 0.9087 - val_loss: 0.3526 - val_auc: 0.9114\n",
      "Epoch 19/100\n",
      "440/440 [==============================] - 4s 8ms/step - loss: 0.3581 - auc: 0.9087 - val_loss: 0.3522 - val_auc: 0.9118\n",
      "Epoch 20/100\n",
      "440/440 [==============================] - 3s 8ms/step - loss: 0.3575 - auc: 0.9091 - val_loss: 0.3508 - val_auc: 0.9123\n",
      "Epoch 21/100\n",
      "440/440 [==============================] - 4s 8ms/step - loss: 0.3570 - auc: 0.9094 - val_loss: 0.3524 - val_auc: 0.9116\n",
      "Epoch 22/100\n",
      "440/440 [==============================] - 3s 8ms/step - loss: 0.3564 - auc: 0.9096 - val_loss: 0.3513 - val_auc: 0.9120\n",
      "Epoch 23/100\n",
      "440/440 [==============================] - 4s 8ms/step - loss: 0.3560 - auc: 0.9099 - val_loss: 0.3508 - val_auc: 0.9121\n",
      "Epoch 24/100\n",
      "440/440 [==============================] - 3s 8ms/step - loss: 0.3558 - auc: 0.9100 - val_loss: 0.3521 - val_auc: 0.9116\n",
      "Epoch 25/100\n",
      "440/440 [==============================] - 3s 8ms/step - loss: 0.3549 - auc: 0.9104 - val_loss: 0.3504 - val_auc: 0.9125\n",
      "Epoch 26/100\n",
      "440/440 [==============================] - 3s 8ms/step - loss: 0.3549 - auc: 0.9105 - val_loss: 0.3513 - val_auc: 0.9122\n",
      "Epoch 27/100\n",
      "440/440 [==============================] - 3s 8ms/step - loss: 0.3542 - auc: 0.9109 - val_loss: 0.3514 - val_auc: 0.9119\n",
      "Epoch 28/100\n",
      "440/440 [==============================] - 4s 8ms/step - loss: 0.3541 - auc: 0.9109 - val_loss: 0.3503 - val_auc: 0.9125\n",
      "Epoch 29/100\n",
      "440/440 [==============================] - 3s 8ms/step - loss: 0.3542 - auc: 0.9108 - val_loss: 0.3507 - val_auc: 0.9122\n",
      "Epoch 30/100\n",
      "440/440 [==============================] - 3s 8ms/step - loss: 0.3531 - auc: 0.9114 - val_loss: 0.3504 - val_auc: 0.9124\n",
      "Epoch 31/100\n",
      "440/440 [==============================] - 4s 8ms/step - loss: 0.3534 - auc: 0.9113 - val_loss: 0.3496 - val_auc: 0.9129\n",
      "Epoch 32/100\n",
      "440/440 [==============================] - 3s 8ms/step - loss: 0.3531 - auc: 0.9114 - val_loss: 0.3498 - val_auc: 0.9127\n",
      "Epoch 33/100\n",
      "440/440 [==============================] - 3s 8ms/step - loss: 0.3528 - auc: 0.9115 - val_loss: 0.3498 - val_auc: 0.9130\n",
      "Epoch 34/100\n",
      "440/440 [==============================] - 4s 8ms/step - loss: 0.3523 - auc: 0.9118 - val_loss: 0.3494 - val_auc: 0.9129\n",
      "Epoch 35/100\n",
      "440/440 [==============================] - 3s 8ms/step - loss: 0.3521 - auc: 0.9119 - val_loss: 0.3490 - val_auc: 0.9132\n",
      "Epoch 36/100\n",
      "440/440 [==============================] - 3s 8ms/step - loss: 0.3520 - auc: 0.9120 - val_loss: 0.3499 - val_auc: 0.9128\n",
      "Epoch 37/100\n",
      "440/440 [==============================] - 3s 8ms/step - loss: 0.3514 - auc: 0.9123 - val_loss: 0.3493 - val_auc: 0.9129\n",
      "Epoch 38/100\n",
      "440/440 [==============================] - 4s 8ms/step - loss: 0.3511 - auc: 0.9125 - val_loss: 0.3492 - val_auc: 0.9131\n",
      "Epoch 39/100\n",
      "440/440 [==============================] - 3s 8ms/step - loss: 0.3511 - auc: 0.9124 - val_loss: 0.3498 - val_auc: 0.9127\n",
      "Epoch 40/100\n",
      "440/440 [==============================] - 3s 8ms/step - loss: 0.3510 - auc: 0.9125 - val_loss: 0.3497 - val_auc: 0.9129\n",
      "Epoch 41/100\n",
      "440/440 [==============================] - 3s 8ms/step - loss: 0.3511 - auc: 0.9124 - val_loss: 0.3495 - val_auc: 0.9129\n",
      "Epoch 42/100\n",
      "440/440 [==============================] - 3s 8ms/step - loss: 0.3508 - auc: 0.9126 - val_loss: 0.3488 - val_auc: 0.9133\n",
      "Epoch 43/100\n",
      "440/440 [==============================] - 3s 8ms/step - loss: 0.3501 - auc: 0.9129 - val_loss: 0.3509 - val_auc: 0.9126\n",
      "Epoch 44/100\n",
      "440/440 [==============================] - 3s 8ms/step - loss: 0.3501 - auc: 0.9129 - val_loss: 0.3505 - val_auc: 0.9125\n",
      "Epoch 45/100\n",
      "440/440 [==============================] - 3s 8ms/step - loss: 0.3494 - auc: 0.9133 - val_loss: 0.3486 - val_auc: 0.9135\n",
      "Epoch 46/100\n",
      "440/440 [==============================] - 3s 8ms/step - loss: 0.3495 - auc: 0.9133 - val_loss: 0.3494 - val_auc: 0.9130\n",
      "Epoch 47/100\n",
      "440/440 [==============================] - 3s 8ms/step - loss: 0.3498 - auc: 0.9131 - val_loss: 0.3494 - val_auc: 0.9131\n",
      "Epoch 48/100\n",
      "440/440 [==============================] - 4s 8ms/step - loss: 0.3496 - auc: 0.9133 - val_loss: 0.3505 - val_auc: 0.9125\n",
      "Epoch 49/100\n",
      "440/440 [==============================] - 4s 8ms/step - loss: 0.3493 - auc: 0.9134 - val_loss: 0.3502 - val_auc: 0.9128\n",
      "Epoch 50/100\n",
      "440/440 [==============================] - 3s 8ms/step - loss: 0.3490 - auc: 0.9135 - val_loss: 0.3490 - val_auc: 0.9133\n",
      "Epoch 51/100\n",
      "440/440 [==============================] - 4s 8ms/step - loss: 0.3480 - auc: 0.9140 - val_loss: 0.3481 - val_auc: 0.9139\n",
      "Epoch 52/100\n",
      "440/440 [==============================] - 3s 8ms/step - loss: 0.3483 - auc: 0.9139 - val_loss: 0.3498 - val_auc: 0.9132\n",
      "Epoch 53/100\n",
      "440/440 [==============================] - 3s 8ms/step - loss: 0.3481 - auc: 0.9140 - val_loss: 0.3498 - val_auc: 0.9130\n",
      "Epoch 54/100\n",
      "440/440 [==============================] - 3s 8ms/step - loss: 0.3482 - auc: 0.9139 - val_loss: 0.3497 - val_auc: 0.9131\n",
      "Epoch 55/100\n",
      "440/440 [==============================] - 3s 8ms/step - loss: 0.3476 - auc: 0.9143 - val_loss: 0.3504 - val_auc: 0.9129\n",
      "Epoch 56/100\n",
      "440/440 [==============================] - 3s 8ms/step - loss: 0.3477 - auc: 0.9142 - val_loss: 0.3507 - val_auc: 0.9126\n",
      "Epoch 57/100\n",
      "440/440 [==============================] - 3s 8ms/step - loss: 0.3478 - auc: 0.9142 - val_loss: 0.3507 - val_auc: 0.9127\n",
      "Epoch 58/100\n",
      "440/440 [==============================] - 4s 8ms/step - loss: 0.3474 - auc: 0.9143 - val_loss: 0.3499 - val_auc: 0.9130\n",
      "Epoch 59/100\n",
      "440/440 [==============================] - 4s 8ms/step - loss: 0.3474 - auc: 0.9143 - val_loss: 0.3498 - val_auc: 0.9130\n",
      "Epoch 60/100\n",
      "440/440 [==============================] - 4s 8ms/step - loss: 0.3472 - auc: 0.9144 - val_loss: 0.3512 - val_auc: 0.9123\n",
      "Epoch 61/100\n",
      "440/440 [==============================] - 4s 8ms/step - loss: 0.3468 - auc: 0.9147 - val_loss: 0.3486 - val_auc: 0.9135\n",
      "Epoch 62/100\n",
      "440/440 [==============================] - 3s 8ms/step - loss: 0.3472 - auc: 0.9144 - val_loss: 0.3491 - val_auc: 0.9132\n",
      "Epoch 63/100\n",
      "440/440 [==============================] - 4s 8ms/step - loss: 0.3463 - auc: 0.9150 - val_loss: 0.3484 - val_auc: 0.9135\n",
      "Epoch 64/100\n",
      "440/440 [==============================] - 4s 8ms/step - loss: 0.3468 - auc: 0.9146 - val_loss: 0.3495 - val_auc: 0.9131\n",
      "Epoch 65/100\n",
      "440/440 [==============================] - 4s 8ms/step - loss: 0.3467 - auc: 0.9148 - val_loss: 0.3494 - val_auc: 0.9130\n",
      "Epoch 66/100\n",
      "440/440 [==============================] - 4s 8ms/step - loss: 0.3463 - auc: 0.9149 - val_loss: 0.3499 - val_auc: 0.9132\n",
      "Epoch 67/100\n",
      "436/440 [============================>.] - ETA: 0s - loss: 0.3464 - auc: 0.9149Restoring model weights from the end of the best epoch.\n",
      "440/440 [==============================] - 4s 8ms/step - loss: 0.3466 - auc: 0.9149 - val_loss: 0.3492 - val_auc: 0.9132\n",
      "Epoch 00067: early stopping\n"
     ]
    }
   ],
   "source": [
    "EPOCHS = 100\n",
    "\n",
    "\n",
    "es_cbk = tf.keras.callbacks.EarlyStopping(\n",
    "    monitor=\"val_loss\",\n",
    "    patience=16,\n",
    "    verbose=1,\n",
    "    mode=\"auto\",\n",
    "    baseline=None,\n",
    "    restore_best_weights=True,\n",
    ")\n",
    "\n",
    "history = model.fit(X_train_qt, y_train_enc,  epochs = EPOCHS, validation_data = (X_valid_qt, y_valid_enc), batch_size = BATCH_SIZE,\n",
    "                   callbacks = [es_cbk])"
   ]
  },
  {
   "cell_type": "code",
   "execution_count": 164,
   "id": "e6d8d62d",
   "metadata": {},
   "outputs": [],
   "source": [
    "def plot_loss():\n",
    "    plt.figure(figsize=(9, 6))\n",
    "    loss = history.history['loss']\n",
    "    val_loss = history.history['val_loss']\n",
    "    \n",
    "    plt.xlabel('epoch')\n",
    "    plt.ylabel('loss')\n",
    "    plt.plot(loss, label = 'loss')\n",
    "    plt.plot(val_loss, label = 'validation loss')\n",
    "    plt.legend(loc = 'upper right')\n",
    "    plt.grid();\n",
    "    plt.show()"
   ]
  },
  {
   "cell_type": "code",
   "execution_count": 165,
   "id": "c95a5be8",
   "metadata": {},
   "outputs": [
    {
     "data": {
      "image/png": "[encoded data removed]",
      "text/plain": [
       "<Figure size 648x432 with 1 Axes>"
      ]
     },
     "metadata": {
      "needs_background": "light"
     },
     "output_type": "display_data"
    }
   ],
   "source": [
    "plot_loss()"
   ]
  },
  {
   "cell_type": "code",
   "execution_count": 166,
   "id": "aeab8225",
   "metadata": {},
   "outputs": [],
   "source": [
    "def plot_auc():\n",
    "    plt.figure(figsize=(9, 6))\n",
    "    auc = history.history['auc']\n",
    "    val_auc = history.history['val_auc']\n",
    "    \n",
    "    plt.xlabel('epoch')\n",
    "    plt.ylabel('accuracy')\n",
    "    plt.plot(auc, label = 'AUC')\n",
    "    plt.plot(val_auc, label = 'validation AUC')\n",
    "    plt.legend(loc = 'lower right')\n",
    "    plt.grid();\n",
    "    plt.show()"
   ]
  },
  {
   "cell_type": "code",
   "execution_count": 167,
   "id": "7be08007",
   "metadata": {},
   "outputs": [
    {
     "data": {
      "image/png": "[encoded data removed]",
      "text/plain": [
       "<Figure size 648x432 with 1 Axes>"
      ]
     },
     "metadata": {
      "needs_background": "light"
     },
     "output_type": "display_data"
    }
   ],
   "source": [
    "plot_auc()"
   ]
  },
  {
   "cell_type": "code",
   "execution_count": 168,
   "id": "40d29550",
   "metadata": {},
   "outputs": [
    {
     "name": "stdout",
     "output_type": "stream",
     "text": [
      "Model: \"model_residual_205\"\n",
      "_________________________________________________________________\n",
      "Layer (type)                 Output Shape              Param #   \n",
      "=================================================================\n",
      "rb0 (MyResidualBlock)        multiple                  1980      \n",
      "_________________________________________________________________\n",
      "rb1 (MyResidualBlock)        multiple                  1980      \n",
      "_________________________________________________________________\n",
      "rb2 (MyResidualBlock)        multiple                  1980      \n",
      "_________________________________________________________________\n",
      "rb3 (MyResidualBlock)        multiple                  1980      \n",
      "_________________________________________________________________\n",
      "rb4 (MyResidualBlock)        multiple                  1980      \n",
      "_________________________________________________________________\n",
      "rb5 (MyResidualBlock)        multiple                  1980      \n",
      "_________________________________________________________________\n",
      "rb6 (MyResidualBlock)        multiple                  1980      \n",
      "_________________________________________________________________\n",
      "rb7 (MyResidualBlock)        multiple                  1980      \n",
      "_________________________________________________________________\n",
      "dense_3311 (Dense)           multiple                  930       \n",
      "_________________________________________________________________\n",
      "batch_normalization_1766 (Ba multiple                  120       \n",
      "_________________________________________________________________\n",
      "re_lu_28 (ReLU)              multiple                  0         \n",
      "_________________________________________________________________\n",
      "dense_3328 (Dense)           multiple                  31        \n",
      "=================================================================\n",
      "Total params: 16,921\n",
      "Trainable params: 16,381\n",
      "Non-trainable params: 540\n",
      "_________________________________________________________________\n"
     ]
    }
   ],
   "source": [
    "model.summary()"
   ]
  },
  {
   "cell_type": "markdown",
   "id": "e8e29b13",
   "metadata": {},
   "source": [
    "### adding Optuna"
   ]
  },
  {
   "cell_type": "code",
   "execution_count": 177,
   "id": "47d7ed63",
   "metadata": {},
   "outputs": [],
   "source": [
    "def objective(trial):\n",
    "    \n",
    "    # strategy for search (parameter to tune)\n",
    "    n_blocks = trial.suggest_int(\"n_blocks\", 1, 10)\n",
    "    lr = trial.suggest_loguniform(\"lr\", 1e-5, 1e-2)\n",
    "    h_drop = trial.suggest_uniform(\"hf\", 0, 0.5)\n",
    "    \n",
    "    with strategy.scope():\n",
    "        model = build_model(n_blocks = n_blocks, hidden_drop = h_drop, lr=lr)\n",
    "    \n",
    "    es_cbk = tf.keras.callbacks.EarlyStopping(\n",
    "        monitor=\"val_loss\",\n",
    "        patience=16,\n",
    "        verbose=1,\n",
    "        mode=\"auto\",\n",
    "        baseline=None,\n",
    "        restore_best_weights=False)\n",
    "\n",
    "    history = model.fit(X_train_qt, y_train_enc,  epochs = EPOCHS, validation_data = (X_valid_qt, y_valid_enc), batch_size = BATCH_SIZE,\n",
    "                   callbacks = [es_cbk], verbose=0)\n",
    "    \n",
    "    \n",
    "    # no need to re-evaluate I can get best vaL-auc from history\n",
    "    score = np.max(history.history['val_auc'])\n",
    "    \n",
    "    return score"
   ]
  },
  {
   "cell_type": "code",
   "execution_count": null,
   "id": "ba09b4e3",
   "metadata": {},
   "outputs": [
    {
     "name": "stderr",
     "output_type": "stream",
     "text": [
      "\u001b[32m[I 2021-07-24 15:25:09,018]\u001b[0m A new study created with name: resnet1\u001b[0m\n",
      "\u001b[32m[I 2021-07-24 15:29:51,530]\u001b[0m Trial 0 finished with value: 0.9135973453521729 and parameters: {'n_blocks': 9, 'lr': 0.0006896307065129192, 'hf': 0.41355750583418716}. Best is trial 0 with value: 0.9135973453521729.\u001b[0m\n"
     ]
    },
    {
     "name": "stdout",
     "output_type": "stream",
     "text": [
      "Epoch 00080: early stopping\n"
     ]
    },
    {
     "name": "stderr",
     "output_type": "stream",
     "text": [
      "\u001b[32m[I 2021-07-24 15:33:55,365]\u001b[0m Trial 1 finished with value: 0.9042432904243469 and parameters: {'n_blocks': 5, 'lr': 3.204063549782856e-05, 'hf': 0.36756866780275044}. Best is trial 0 with value: 0.9135973453521729.\u001b[0m\n",
      "\u001b[32m[I 2021-07-24 15:38:55,307]\u001b[0m Trial 2 finished with value: 0.9086316227912903 and parameters: {'n_blocks': 7, 'lr': 7.961517004648136e-05, 'hf': 0.48573758538891226}. Best is trial 0 with value: 0.9135973453521729.\u001b[0m\n",
      "\u001b[32m[I 2021-07-24 15:45:12,848]\u001b[0m Trial 3 finished with value: 0.9132937788963318 and parameters: {'n_blocks': 10, 'lr': 0.0001846874943053899, 'hf': 0.34351402094675076}. Best is trial 0 with value: 0.9135973453521729.\u001b[0m\n",
      "\u001b[32m[I 2021-07-24 15:48:02,951]\u001b[0m Trial 4 finished with value: 0.9117178320884705 and parameters: {'n_blocks': 4, 'lr': 0.00029116996376259233, 'hf': 0.22258383197088677}. Best is trial 0 with value: 0.9135973453521729.\u001b[0m\n"
     ]
    },
    {
     "name": "stdout",
     "output_type": "stream",
     "text": [
      "Epoch 00078: early stopping\n"
     ]
    },
    {
     "name": "stderr",
     "output_type": "stream",
     "text": [
      "\u001b[32m[I 2021-07-24 15:52:09,503]\u001b[0m Trial 5 finished with value: 0.9133695363998413 and parameters: {'n_blocks': 5, 'lr': 0.0007889793177254955, 'hf': 0.40194015550507084}. Best is trial 0 with value: 0.9135973453521729.\u001b[0m\n",
      "\u001b[32m[I 2021-07-24 15:56:40,244]\u001b[0m Trial 6 finished with value: 0.9117658734321594 and parameters: {'n_blocks': 6, 'lr': 0.00010174453590162248, 'hf': 0.22604325517585838}. Best is trial 0 with value: 0.9135973453521729.\u001b[0m\n",
      "\u001b[32m[I 2021-07-24 15:58:52,986]\u001b[0m Trial 7 finished with value: 0.9083041548728943 and parameters: {'n_blocks': 1, 'lr': 0.0001129952315470154, 'hf': 0.21851763929792745}. Best is trial 0 with value: 0.9135973453521729.\u001b[0m\n",
      "\u001b[32m[I 2021-07-24 16:03:50,198]\u001b[0m Trial 8 finished with value: 0.8989878296852112 and parameters: {'n_blocks': 7, 'lr': 1.711211590925698e-05, 'hf': 0.21328621758683203}. Best is trial 0 with value: 0.9135973453521729.\u001b[0m\n",
      "\u001b[32m[I 2021-07-24 16:09:27,167]\u001b[0m Trial 9 finished with value: 0.9134264588356018 and parameters: {'n_blocks': 10, 'lr': 0.0010957208007364469, 'hf': 0.4980122303258616}. Best is trial 0 with value: 0.9135973453521729.\u001b[0m\n"
     ]
    },
    {
     "name": "stdout",
     "output_type": "stream",
     "text": [
      "Epoch 00088: early stopping\n"
     ]
    },
    {
     "name": "stderr",
     "output_type": "stream",
     "text": [
      "\u001b[32m[I 2021-07-24 16:11:48,229]\u001b[0m Trial 10 finished with value: 0.9131982326507568 and parameters: {'n_blocks': 9, 'lr': 0.008079136887698393, 'hf': 0.04922890921648426}. Best is trial 0 with value: 0.9135973453521729.\u001b[0m\n"
     ]
    },
    {
     "name": "stdout",
     "output_type": "stream",
     "text": [
      "Epoch 00039: early stopping\n"
     ]
    },
    {
     "name": "stderr",
     "output_type": "stream",
     "text": [
      "\u001b[32m[I 2021-07-24 16:16:04,122]\u001b[0m Trial 11 finished with value: 0.9144378304481506 and parameters: {'n_blocks': 10, 'lr': 0.001730766967138896, 'hf': 0.48756993673642496}. Best is trial 11 with value: 0.9144378304481506.\u001b[0m\n"
     ]
    },
    {
     "name": "stdout",
     "output_type": "stream",
     "text": [
      "Epoch 00067: early stopping\n"
     ]
    },
    {
     "name": "stderr",
     "output_type": "stream",
     "text": [
      "\u001b[32m[I 2021-07-24 16:20:10,021]\u001b[0m Trial 12 finished with value: 0.9135346412658691 and parameters: {'n_blocks': 9, 'lr': 0.004291201989042985, 'hf': 0.43751596515406177}. Best is trial 11 with value: 0.9144378304481506.\u001b[0m\n"
     ]
    },
    {
     "name": "stdout",
     "output_type": "stream",
     "text": [
      "Epoch 00069: early stopping\n"
     ]
    },
    {
     "name": "stderr",
     "output_type": "stream",
     "text": [
      "\u001b[32m[I 2021-07-24 16:23:06,880]\u001b[0m Trial 13 finished with value: 0.9135266542434692 and parameters: {'n_blocks': 8, 'lr': 0.0018508859410436024, 'hf': 0.4948075989229952}. Best is trial 11 with value: 0.9144378304481506.\u001b[0m\n"
     ]
    },
    {
     "name": "stdout",
     "output_type": "stream",
     "text": [
      "Epoch 00054: early stopping\n"
     ]
    },
    {
     "name": "stderr",
     "output_type": "stream",
     "text": [
      "\u001b[32m[I 2021-07-24 16:25:55,219]\u001b[0m Trial 14 finished with value: 0.9140444397926331 and parameters: {'n_blocks': 10, 'lr': 0.0024555128055215444, 'hf': 0.33497950061016013}. Best is trial 11 with value: 0.9144378304481506.\u001b[0m\n"
     ]
    },
    {
     "name": "stdout",
     "output_type": "stream",
     "text": [
      "Epoch 00044: early stopping\n"
     ]
    },
    {
     "name": "stderr",
     "output_type": "stream",
     "text": [
      "\u001b[32m[I 2021-07-24 16:27:47,070]\u001b[0m Trial 15 finished with value: 0.9122716188430786 and parameters: {'n_blocks': 1, 'lr': 0.0030643705528226144, 'hf': 0.11691702776907736}. Best is trial 11 with value: 0.9144378304481506.\u001b[0m\n"
     ]
    },
    {
     "name": "stdout",
     "output_type": "stream",
     "text": [
      "Epoch 00083: early stopping\n"
     ]
    },
    {
     "name": "stderr",
     "output_type": "stream",
     "text": [
      "\u001b[32m[I 2021-07-24 16:31:15,986]\u001b[0m Trial 16 finished with value: 0.9128626585006714 and parameters: {'n_blocks': 10, 'lr': 0.0076939479271171535, 'hf': 0.31599703592154094}. Best is trial 11 with value: 0.9144378304481506.\u001b[0m\n"
     ]
    },
    {
     "name": "stdout",
     "output_type": "stream",
     "text": [
      "Epoch 00054: early stopping\n"
     ]
    },
    {
     "name": "stderr",
     "output_type": "stream",
     "text": [
      "\u001b[32m[I 2021-07-24 16:34:39,985]\u001b[0m Trial 17 finished with value: 0.9142590165138245 and parameters: {'n_blocks': 8, 'lr': 0.0018982127600498902, 'hf': 0.29032977484566436}. Best is trial 11 with value: 0.9144378304481506.\u001b[0m\n"
     ]
    },
    {
     "name": "stdout",
     "output_type": "stream",
     "text": [
      "Epoch 00062: early stopping\n"
     ]
    },
    {
     "name": "stderr",
     "output_type": "stream",
     "text": [
      "\u001b[32m[I 2021-07-24 16:37:47,834]\u001b[0m Trial 18 finished with value: 0.9133785367012024 and parameters: {'n_blocks': 3, 'lr': 0.0004211283726702813, 'hf': 0.13613845802973223}. Best is trial 11 with value: 0.9144378304481506.\u001b[0m\n",
      "\u001b[32m[I 2021-07-24 16:42:35,172]\u001b[0m Trial 19 finished with value: 0.9140886068344116 and parameters: {'n_blocks': 8, 'lr': 0.0013055175064604482, 'hf': 0.2854405344961787}. Best is trial 11 with value: 0.9144378304481506.\u001b[0m\n"
     ]
    },
    {
     "name": "stdout",
     "output_type": "stream",
     "text": [
      "Epoch 00088: early stopping\n"
     ]
    },
    {
     "name": "stderr",
     "output_type": "stream",
     "text": [
      "\u001b[32m[I 2021-07-24 16:44:34,789]\u001b[0m Trial 20 finished with value: 0.9139730334281921 and parameters: {'n_blocks': 8, 'lr': 0.005560849829124884, 'hf': 0.12046888820464569}. Best is trial 11 with value: 0.9144378304481506.\u001b[0m\n"
     ]
    },
    {
     "name": "stdout",
     "output_type": "stream",
     "text": [
      "Epoch 00036: early stopping\n"
     ]
    },
    {
     "name": "stderr",
     "output_type": "stream",
     "text": [
      "\u001b[32m[I 2021-07-24 16:47:34,296]\u001b[0m Trial 21 finished with value: 0.9136565327644348 and parameters: {'n_blocks': 8, 'lr': 0.0014220993479801072, 'hf': 0.27032951346738965}. Best is trial 11 with value: 0.9144378304481506.\u001b[0m\n"
     ]
    },
    {
     "name": "stdout",
     "output_type": "stream",
     "text": [
      "Epoch 00054: early stopping\n"
     ]
    },
    {
     "name": "stderr",
     "output_type": "stream",
     "text": [
      "\u001b[32m[I 2021-07-24 16:51:59,982]\u001b[0m Trial 22 finished with value: 0.9136473536491394 and parameters: {'n_blocks': 7, 'lr': 0.0005249536216077574, 'hf': 0.2792581631913717}. Best is trial 11 with value: 0.9144378304481506.\u001b[0m\n"
     ]
    },
    {
     "name": "stdout",
     "output_type": "stream",
     "text": [
      "Epoch 00088: early stopping\n"
     ]
    },
    {
     "name": "stderr",
     "output_type": "stream",
     "text": [
      "\u001b[32m[I 2021-07-24 16:55:02,144]\u001b[0m Trial 23 finished with value: 0.9142166972160339 and parameters: {'n_blocks': 9, 'lr': 0.0014086777441112322, 'hf': 0.16937449144518585}. Best is trial 11 with value: 0.9144378304481506.\u001b[0m\n"
     ]
    },
    {
     "name": "stdout",
     "output_type": "stream",
     "text": [
      "Epoch 00051: early stopping\n"
     ]
    },
    {
     "name": "stderr",
     "output_type": "stream",
     "text": [
      "\u001b[32m[I 2021-07-24 16:57:40,232]\u001b[0m Trial 24 finished with value: 0.9136819243431091 and parameters: {'n_blocks': 9, 'lr': 0.0034665717076583858, 'hf': 0.1728394690275713}. Best is trial 11 with value: 0.9144378304481506.\u001b[0m\n"
     ]
    },
    {
     "name": "stdout",
     "output_type": "stream",
     "text": [
      "Epoch 00044: early stopping\n"
     ]
    },
    {
     "name": "stderr",
     "output_type": "stream",
     "text": [
      "\u001b[32m[I 2021-07-24 17:00:18,036]\u001b[0m Trial 25 finished with value: 0.9134884476661682 and parameters: {'n_blocks': 9, 'lr': 0.0021225519409017735, 'hf': 0.07545958039373729}. Best is trial 11 with value: 0.9144378304481506.\u001b[0m\n"
     ]
    },
    {
     "name": "stdout",
     "output_type": "stream",
     "text": [
      "Epoch 00044: early stopping\n"
     ]
    },
    {
     "name": "stderr",
     "output_type": "stream",
     "text": [
      "\u001b[32m[I 2021-07-24 17:02:35,622]\u001b[0m Trial 26 finished with value: 0.9128045439720154 and parameters: {'n_blocks': 6, 'lr': 0.0009359584982777456, 'hf': 0.18192991191919156}. Best is trial 11 with value: 0.9144378304481506.\u001b[0m\n"
     ]
    },
    {
     "name": "stdout",
     "output_type": "stream",
     "text": [
      "Epoch 00050: early stopping\n"
     ]
    },
    {
     "name": "stderr",
     "output_type": "stream",
     "text": [
      "\u001b[32m[I 2021-07-24 17:08:50,123]\u001b[0m Trial 27 finished with value: 0.9134582877159119 and parameters: {'n_blocks': 10, 'lr': 0.00023860112346102319, 'hf': 0.16610208154545492}. Best is trial 11 with value: 0.9144378304481506.\u001b[0m\n"
     ]
    },
    {
     "name": "stdout",
     "output_type": "stream",
     "text": [
      "Epoch 00098: early stopping\n"
     ]
    },
    {
     "name": "stderr",
     "output_type": "stream",
     "text": [
      "\u001b[32m[I 2021-07-24 17:11:31,390]\u001b[0m Trial 28 finished with value: 0.9113138914108276 and parameters: {'n_blocks': 7, 'lr': 0.0005037498731430765, 'hf': 0.011246050949977077}. Best is trial 11 with value: 0.9144378304481506.\u001b[0m\n"
     ]
    },
    {
     "name": "stdout",
     "output_type": "stream",
     "text": [
      "Epoch 00053: early stopping\n"
     ]
    },
    {
     "name": "stderr",
     "output_type": "stream",
     "text": [
      "\u001b[32m[I 2021-07-24 17:14:57,688]\u001b[0m Trial 29 finished with value: 0.9130496382713318 and parameters: {'n_blocks': 8, 'lr': 0.0007420232130288183, 'hf': 0.4276511636861661}. Best is trial 11 with value: 0.9144378304481506.\u001b[0m\n"
     ]
    },
    {
     "name": "stdout",
     "output_type": "stream",
     "text": [
      "Epoch 00063: early stopping\n"
     ]
    },
    {
     "name": "stderr",
     "output_type": "stream",
     "text": [
      "\u001b[32m[I 2021-07-24 17:18:02,816]\u001b[0m Trial 30 finished with value: 0.9137086272239685 and parameters: {'n_blocks': 9, 'lr': 0.005360657734815904, 'hf': 0.0775107146594143}. Best is trial 11 with value: 0.9144378304481506.\u001b[0m\n"
     ]
    },
    {
     "name": "stdout",
     "output_type": "stream",
     "text": [
      "Epoch 00051: early stopping\n"
     ]
    },
    {
     "name": "stderr",
     "output_type": "stream",
     "text": [
      "\u001b[32m[I 2021-07-24 17:22:27,217]\u001b[0m Trial 31 finished with value: 0.9140546321868896 and parameters: {'n_blocks': 8, 'lr': 0.0012599444893089762, 'hf': 0.3003328155183431}. Best is trial 11 with value: 0.9144378304481506.\u001b[0m\n"
     ]
    },
    {
     "name": "stdout",
     "output_type": "stream",
     "text": [
      "Epoch 00080: early stopping\n"
     ]
    },
    {
     "name": "stderr",
     "output_type": "stream",
     "text": [
      "\u001b[32m[I 2021-07-24 17:25:28,869]\u001b[0m Trial 32 finished with value: 0.9137186408042908 and parameters: {'n_blocks': 9, 'lr': 0.0017366369090272677, 'hf': 0.38234295412342867}. Best is trial 11 with value: 0.9144378304481506.\u001b[0m\n"
     ]
    },
    {
     "name": "stdout",
     "output_type": "stream",
     "text": [
      "Epoch 00051: early stopping\n"
     ]
    },
    {
     "name": "stderr",
     "output_type": "stream",
     "text": [
      "\u001b[32m[I 2021-07-24 17:27:49,467]\u001b[0m Trial 33 finished with value: 0.912977397441864 and parameters: {'n_blocks': 6, 'lr': 0.002768770493094098, 'hf': 0.4566470902466375}. Best is trial 11 with value: 0.9144378304481506.\u001b[0m\n"
     ]
    },
    {
     "name": "stdout",
     "output_type": "stream",
     "text": [
      "Epoch 00051: early stopping\n"
     ]
    },
    {
     "name": "stderr",
     "output_type": "stream",
     "text": [
      "\u001b[32m[I 2021-07-24 17:30:43,736]\u001b[0m Trial 34 finished with value: 0.9135260581970215 and parameters: {'n_blocks': 7, 'lr': 0.001234221264211423, 'hf': 0.24466008322626395}. Best is trial 11 with value: 0.9144378304481506.\u001b[0m\n"
     ]
    },
    {
     "name": "stdout",
     "output_type": "stream",
     "text": [
      "Epoch 00058: early stopping\n"
     ]
    },
    {
     "name": "stderr",
     "output_type": "stream",
     "text": [
      "\u001b[32m[I 2021-07-24 17:36:47,505]\u001b[0m Trial 35 finished with value: 0.9140521883964539 and parameters: {'n_blocks': 10, 'lr': 0.000621743456783189, 'hf': 0.36954344714322707}. Best is trial 11 with value: 0.9144378304481506.\u001b[0m\n"
     ]
    },
    {
     "name": "stdout",
     "output_type": "stream",
     "text": [
      "Epoch 00096: early stopping\n"
     ]
    },
    {
     "name": "stderr",
     "output_type": "stream",
     "text": [
      "\u001b[32m[I 2021-07-24 17:38:48,392]\u001b[0m Trial 36 finished with value: 0.9127094149589539 and parameters: {'n_blocks': 8, 'lr': 0.009684143023703526, 'hf': 0.25774451797085896}. Best is trial 11 with value: 0.9144378304481506.\u001b[0m\n"
     ]
    },
    {
     "name": "stdout",
     "output_type": "stream",
     "text": [
      "Epoch 00036: early stopping\n"
     ]
    },
    {
     "name": "stderr",
     "output_type": "stream",
     "text": [
      "\u001b[32m[I 2021-07-24 17:41:59,875]\u001b[0m Trial 37 finished with value: 0.9128447771072388 and parameters: {'n_blocks': 4, 'lr': 0.0003235033922727985, 'hf': 0.304623038512815}. Best is trial 11 with value: 0.9144378304481506.\u001b[0m\n"
     ]
    },
    {
     "name": "stdout",
     "output_type": "stream",
     "text": [
      "Epoch 00088: early stopping\n"
     ]
    },
    {
     "name": "stderr",
     "output_type": "stream",
     "text": [
      "\u001b[32m[I 2021-07-24 17:45:17,062]\u001b[0m Trial 38 finished with value: 0.914018988609314 and parameters: {'n_blocks': 10, 'lr': 0.001685038257832697, 'hf': 0.3482316003980231}. Best is trial 11 with value: 0.9144378304481506.\u001b[0m\n"
     ]
    },
    {
     "name": "stdout",
     "output_type": "stream",
     "text": [
      "Epoch 00051: early stopping\n"
     ]
    },
    {
     "name": "stderr",
     "output_type": "stream",
     "text": [
      "\u001b[32m[I 2021-07-24 17:49:44,425]\u001b[0m Trial 39 finished with value: 0.9138069152832031 and parameters: {'n_blocks': 9, 'lr': 0.0008439402287992568, 'hf': 0.19457456002721168}. Best is trial 11 with value: 0.9144378304481506.\u001b[0m\n"
     ]
    },
    {
     "name": "stdout",
     "output_type": "stream",
     "text": [
      "Epoch 00075: early stopping\n"
     ]
    },
    {
     "name": "stderr",
     "output_type": "stream",
     "text": [
      "\u001b[32m[I 2021-07-24 17:54:46,338]\u001b[0m Trial 40 finished with value: 0.9118732810020447 and parameters: {'n_blocks': 7, 'lr': 0.00017721935451044262, 'hf': 0.14849033020629165}. Best is trial 11 with value: 0.9144378304481506.\u001b[0m\n"
     ]
    }
   ],
   "source": [
    "# the sqllite file has name resnet1.db\n",
    "\n",
    "study_name = \"resnet1\"  # Unique identifier of the study.\n",
    "storage_name = \"sqlite:///{}.db\".format(study_name)\n",
    "\n",
    "study = optuna.create_study(study_name=study_name, storage=storage_name, direction='maximize')\n",
    "\n",
    "study.optimize(objective, n_trials=100)"
   ]
  },
  {
   "cell_type": "code",
   "execution_count": 121,
   "id": "fbcd392c",
   "metadata": {},
   "outputs": [
    {
     "data": {
      "application/vnd.plotly.v1+json": {
       "config": {
        "plotlyServerURL": "https://plot.ly"
       },
       "data": [
        {
         "mode": "markers",
         "name": "Objective Value",
         "type": "scatter",
         "x": [
          0,
          1,
          2,
          3,
          4,
          5,
          6,
          7,
          8,
          9,
          10,
          11,
          12,
          13,
          14,
          15,
          16,
          17,
          18,
          19,
          20,
          21,
          22,
          23,
          24,
          25,
          26,
          27,
          28,
          29,
          30,
          31,
          32,
          33,
          34,
          35,
          36,
          37,
          38,
          39,
          40,
          41,
          42,
          43,
          44,
          45,
          46,
          47
         ],
         "y": [
          0.9043324589729309,
          0.8921064734458923,
          0.9138738512992859,
          0.9095865488052368,
          0.8909721374511719,
          0.9021564722061157,
          0.9065873622894287,
          0.9028884172439575,
          0.9043951034545898,
          0.9124869108200073,
          0.9119154214859009,
          0.9111975431442261,
          0.9135259985923767,
          0.9138994216918945,
          0.9128581285476685,
          0.911446750164032,
          0.9130810499191284,
          0.9132376909255981,
          0.9097302556037903,
          0.9140841364860535,
          0.9104295969009399,
          0.9135795831680298,
          0.9133985638618469,
          0.9136864542961121,
          0.9130751490592957,
          0.9141632914543152,
          0.9132378697395325,
          0.9131138920783997,
          0.9131157994270325,
          0.9131247401237488,
          0.913316011428833,
          0.9135462641716003,
          0.9122735261917114,
          0.9139237999916077,
          0.9125915169715881,
          0.9134629368782043,
          0.9122740030288696,
          0.9134899973869324,
          0.9124114513397217,
          0.8959360122680664,
          0.9105924963951111,
          0.9128015041351318,
          0.9133131504058838,
          0.9133950471878052,
          0.9133020639419556,
          0.9135527610778809,
          0.9136495590209961,
          0.91310715675354
         ]
        },
        {
         "name": "Best Value",
         "type": "scatter",
         "x": [
          0,
          1,
          2,
          3,
          4,
          5,
          6,
          7,
          8,
          9,
          10,
          11,
          12,
          13,
          14,
          15,
          16,
          17,
          18,
          19,
          20,
          21,
          22,
          23,
          24,
          25,
          26,
          27,
          28,
          29,
          30,
          31,
          32,
          33,
          34,
          35,
          36,
          37,
          38,
          39,
          40,
          41,
          42,
          43,
          44,
          45,
          46,
          47
         ],
         "y": [
          0.9043324589729309,
          0.9043324589729309,
          0.9138738512992859,
          0.9138738512992859,
          0.9138738512992859,
          0.9138738512992859,
          0.9138738512992859,
          0.9138738512992859,
          0.9138738512992859,
          0.9138738512992859,
          0.9138738512992859,
          0.9138738512992859,
          0.9138738512992859,
          0.9138994216918945,
          0.9138994216918945,
          0.9138994216918945,
          0.9138994216918945,
          0.9138994216918945,
          0.9138994216918945,
          0.9140841364860535,
          0.9140841364860535,
          0.9140841364860535,
          0.9140841364860535,
          0.9140841364860535,
          0.9140841364860535,
          0.9141632914543152,
          0.9141632914543152,
          0.9141632914543152,
          0.9141632914543152,
          0.9141632914543152,
          0.9141632914543152,
          0.9141632914543152,
          0.9141632914543152,
          0.9141632914543152,
          0.9141632914543152,
          0.9141632914543152,
          0.9141632914543152,
          0.9141632914543152,
          0.9141632914543152,
          0.9141632914543152,
          0.9141632914543152,
          0.9141632914543152,
          0.9141632914543152,
          0.9141632914543152,
          0.9141632914543152,
          0.9141632914543152,
          0.9141632914543152,
          0.9141632914543152
         ]
        }
       ],
       "layout": {
        "autosize": true,
        "template": {
         "data": {
          "bar": [
           {
            "error_x": {
             "color": "#2a3f5f"
            },
            "error_y": {
             "color": "#2a3f5f"
            },
            "marker": {
             "line": {
              "color": "#E5ECF6",
              "width": 0.5
             }
            },
            "type": "bar"
           }
          ],
          "barpolar": [
           {
            "marker": {
             "line": {
              "color": "#E5ECF6",
              "width": 0.5
             }
            },
            "type": "barpolar"
           }
          ],
          "carpet": [
           {
            "aaxis": {
             "endlinecolor": "#2a3f5f",
             "gridcolor": "white",
             "linecolor": "white",
             "minorgridcolor": "white",
             "startlinecolor": "#2a3f5f"
            },
            "baxis": {
             "endlinecolor": "#2a3f5f",
             "gridcolor": "white",
             "linecolor": "white",
             "minorgridcolor": "white",
             "startlinecolor": "#2a3f5f"
            },
            "type": "carpet"
           }
          ],
          "choropleth": [
           {
            "colorbar": {
             "outlinewidth": 0,
             "ticks": ""
            },
            "type": "choropleth"
           }
          ],
          "contour": [
           {
            "colorbar": {
             "outlinewidth": 0,
             "ticks": ""
            },
            "colorscale": [
             [
              0,
              "#0d0887"
             ],
             [
              0.1111111111111111,
              "#46039f"
             ],
             [
              0.2222222222222222,
              "#7201a8"
             ],
             [
              0.3333333333333333,
              "#9c179e"
             ],
             [
              0.4444444444444444,
              "#bd3786"
             ],
             [
              0.5555555555555556,
              "#d8576b"
             ],
             [
              0.6666666666666666,
              "#ed7953"
             ],
             [
              0.7777777777777778,
              "#fb9f3a"
             ],
             [
              0.8888888888888888,
              "#fdca26"
             ],
             [
              1,
              "#f0f921"
             ]
            ],
            "type": "contour"
           }
          ],
          "contourcarpet": [
           {
            "colorbar": {
             "outlinewidth": 0,
             "ticks": ""
            },
            "type": "contourcarpet"
           }
          ],
          "heatmap": [
           {
            "colorbar": {
             "outlinewidth": 0,
             "ticks": ""
            },
            "colorscale": [
             [
              0,
              "#0d0887"
             ],
             [
              0.1111111111111111,
              "#46039f"
             ],
             [
              0.2222222222222222,
              "#7201a8"
             ],
             [
              0.3333333333333333,
              "#9c179e"
             ],
             [
              0.4444444444444444,
              "#bd3786"
             ],
             [
              0.5555555555555556,
              "#d8576b"
             ],
             [
              0.6666666666666666,
              "#ed7953"
             ],
             [
              0.7777777777777778,
              "#fb9f3a"
             ],
             [
              0.8888888888888888,
              "#fdca26"
             ],
             [
              1,
              "#f0f921"
             ]
            ],
            "type": "heatmap"
           }
          ],
          "heatmapgl": [
           {
            "colorbar": {
             "outlinewidth": 0,
             "ticks": ""
            },
            "colorscale": [
             [
              0,
              "#0d0887"
             ],
             [
              0.1111111111111111,
              "#46039f"
             ],
             [
              0.2222222222222222,
              "#7201a8"
             ],
             [
              0.3333333333333333,
              "#9c179e"
             ],
             [
              0.4444444444444444,
              "#bd3786"
             ],
             [
              0.5555555555555556,
              "#d8576b"
             ],
             [
              0.6666666666666666,
              "#ed7953"
             ],
             [
              0.7777777777777778,
              "#fb9f3a"
             ],
             [
              0.8888888888888888,
              "#fdca26"
             ],
             [
              1,
              "#f0f921"
             ]
            ],
            "type": "heatmapgl"
           }
          ],
          "histogram": [
           {
            "marker": {
             "colorbar": {
              "outlinewidth": 0,
              "ticks": ""
             }
            },
            "type": "histogram"
           }
          ],
          "histogram2d": [
           {
            "colorbar": {
             "outlinewidth": 0,
             "ticks": ""
            },
            "colorscale": [
             [
              0,
              "#0d0887"
             ],
             [
              0.1111111111111111,
              "#46039f"
             ],
             [
              0.2222222222222222,
              "#7201a8"
             ],
             [
              0.3333333333333333,
              "#9c179e"
             ],
             [
              0.4444444444444444,
              "#bd3786"
             ],
             [
              0.5555555555555556,
              "#d8576b"
             ],
             [
              0.6666666666666666,
              "#ed7953"
             ],
             [
              0.7777777777777778,
              "#fb9f3a"
             ],
             [
              0.8888888888888888,
              "#fdca26"
             ],
             [
              1,
              "#f0f921"
             ]
            ],
            "type": "histogram2d"
           }
          ],
          "histogram2dcontour": [
           {
            "colorbar": {
             "outlinewidth": 0,
             "ticks": ""
            },
            "colorscale": [
             [
              0,
              "#0d0887"
             ],
             [
              0.1111111111111111,
              "#46039f"
             ],
             [
              0.2222222222222222,
              "#7201a8"
             ],
             [
              0.3333333333333333,
              "#9c179e"
             ],
             [
              0.4444444444444444,
              "#bd3786"
             ],
             [
              0.5555555555555556,
              "#d8576b"
             ],
             [
              0.6666666666666666,
              "#ed7953"
             ],
             [
              0.7777777777777778,
              "#fb9f3a"
             ],
             [
              0.8888888888888888,
              "#fdca26"
             ],
             [
              1,
              "#f0f921"
             ]
            ],
            "type": "histogram2dcontour"
           }
          ],
          "mesh3d": [
           {
            "colorbar": {
             "outlinewidth": 0,
             "ticks": ""
            },
            "type": "mesh3d"
           }
          ],
          "parcoords": [
           {
            "line": {
             "colorbar": {
              "outlinewidth": 0,
              "ticks": ""
             }
            },
            "type": "parcoords"
           }
          ],
          "pie": [
           {
            "automargin": true,
            "type": "pie"
           }
          ],
          "scatter": [
           {
            "marker": {
             "colorbar": {
              "outlinewidth": 0,
              "ticks": ""
             }
            },
            "type": "scatter"
           }
          ],
          "scatter3d": [
           {
            "line": {
             "colorbar": {
              "outlinewidth": 0,
              "ticks": ""
             }
            },
            "marker": {
             "colorbar": {
              "outlinewidth": 0,
              "ticks": ""
             }
            },
            "type": "scatter3d"
           }
          ],
          "scattercarpet": [
           {
            "marker": {
             "colorbar": {
              "outlinewidth": 0,
              "ticks": ""
             }
            },
            "type": "scattercarpet"
           }
          ],
          "scattergeo": [
           {
            "marker": {
             "colorbar": {
              "outlinewidth": 0,
              "ticks": ""
             }
            },
            "type": "scattergeo"
           }
          ],
          "scattergl": [
           {
            "marker": {
             "colorbar": {
              "outlinewidth": 0,
              "ticks": ""
             }
            },
            "type": "scattergl"
           }
          ],
          "scattermapbox": [
           {
            "marker": {
             "colorbar": {
              "outlinewidth": 0,
              "ticks": ""
             }
            },
            "type": "scattermapbox"
           }
          ],
          "scatterpolar": [
           {
            "marker": {
             "colorbar": {
              "outlinewidth": 0,
              "ticks": ""
             }
            },
            "type": "scatterpolar"
           }
          ],
          "scatterpolargl": [
           {
            "marker": {
             "colorbar": {
              "outlinewidth": 0,
              "ticks": ""
             }
            },
            "type": "scatterpolargl"
           }
          ],
          "scatterternary": [
           {
            "marker": {
             "colorbar": {
              "outlinewidth": 0,
              "ticks": ""
             }
            },
            "type": "scatterternary"
           }
          ],
          "surface": [
           {
            "colorbar": {
             "outlinewidth": 0,
             "ticks": ""
            },
            "colorscale": [
             [
              0,
              "#0d0887"
             ],
             [
              0.1111111111111111,
              "#46039f"
             ],
             [
              0.2222222222222222,
              "#7201a8"
             ],
             [
              0.3333333333333333,
              "#9c179e"
             ],
             [
              0.4444444444444444,
              "#bd3786"
             ],
             [
              0.5555555555555556,
              "#d8576b"
             ],
             [
              0.6666666666666666,
              "#ed7953"
             ],
             [
              0.7777777777777778,
              "#fb9f3a"
             ],
             [
              0.8888888888888888,
              "#fdca26"
             ],
             [
              1,
              "#f0f921"
             ]
            ],
            "type": "surface"
           }
          ],
          "table": [
           {
            "cells": {
             "fill": {
              "color": "#EBF0F8"
             },
             "line": {
              "color": "white"
             }
            },
            "header": {
             "fill": {
              "color": "#C8D4E3"
             },
             "line": {
              "color": "white"
             }
            },
            "type": "table"
           }
          ]
         },
         "layout": {
          "annotationdefaults": {
           "arrowcolor": "#2a3f5f",
           "arrowhead": 0,
           "arrowwidth": 1
          },
          "coloraxis": {
           "colorbar": {
            "outlinewidth": 0,
            "ticks": ""
           }
          },
          "colorscale": {
           "diverging": [
            [
             0,
             "#8e0152"
            ],
            [
             0.1,
             "#c51b7d"
            ],
            [
             0.2,
             "#de77ae"
            ],
            [
             0.3,
             "#f1b6da"
            ],
            [
             0.4,
             "#fde0ef"
            ],
            [
             0.5,
             "#f7f7f7"
            ],
            [
             0.6,
             "#e6f5d0"
            ],
            [
             0.7,
             "#b8e186"
            ],
            [
             0.8,
             "#7fbc41"
            ],
            [
             0.9,
             "#4d9221"
            ],
            [
             1,
             "#276419"
            ]
           ],
           "sequential": [
            [
             0,
             "#0d0887"
            ],
            [
             0.1111111111111111,
             "#46039f"
            ],
            [
             0.2222222222222222,
             "#7201a8"
            ],
            [
             0.3333333333333333,
             "#9c179e"
            ],
            [
             0.4444444444444444,
             "#bd3786"
            ],
            [
             0.5555555555555556,
             "#d8576b"
            ],
            [
             0.6666666666666666,
             "#ed7953"
            ],
            [
             0.7777777777777778,
             "#fb9f3a"
            ],
            [
             0.8888888888888888,
             "#fdca26"
            ],
            [
             1,
             "#f0f921"
            ]
           ],
           "sequentialminus": [
            [
             0,
             "#0d0887"
            ],
            [
             0.1111111111111111,
             "#46039f"
            ],
            [
             0.2222222222222222,
             "#7201a8"
            ],
            [
             0.3333333333333333,
             "#9c179e"
            ],
            [
             0.4444444444444444,
             "#bd3786"
            ],
            [
             0.5555555555555556,
             "#d8576b"
            ],
            [
             0.6666666666666666,
             "#ed7953"
            ],
            [
             0.7777777777777778,
             "#fb9f3a"
            ],
            [
             0.8888888888888888,
             "#fdca26"
            ],
            [
             1,
             "#f0f921"
            ]
           ]
          },
          "colorway": [
           "#636efa",
           "#EF553B",
           "#00cc96",
           "#ab63fa",
           "#FFA15A",
           "#19d3f3",
           "#FF6692",
           "#B6E880",
           "#FF97FF",
           "#FECB52"
          ],
          "font": {
           "color": "#2a3f5f"
          },
          "geo": {
           "bgcolor": "white",
           "lakecolor": "white",
           "landcolor": "#E5ECF6",
           "showlakes": true,
           "showland": true,
           "subunitcolor": "white"
          },
          "hoverlabel": {
           "align": "left"
          },
          "hovermode": "closest",
          "mapbox": {
           "style": "light"
          },
          "paper_bgcolor": "white",
          "plot_bgcolor": "#E5ECF6",
          "polar": {
           "angularaxis": {
            "gridcolor": "white",
            "linecolor": "white",
            "ticks": ""
           },
           "bgcolor": "#E5ECF6",
           "radialaxis": {
            "gridcolor": "white",
            "linecolor": "white",
            "ticks": ""
           }
          },
          "scene": {
           "xaxis": {
            "backgroundcolor": "#E5ECF6",
            "gridcolor": "white",
            "gridwidth": 2,
            "linecolor": "white",
            "showbackground": true,
            "ticks": "",
            "zerolinecolor": "white"
           },
           "yaxis": {
            "backgroundcolor": "#E5ECF6",
            "gridcolor": "white",
            "gridwidth": 2,
            "linecolor": "white",
            "showbackground": true,
            "ticks": "",
            "zerolinecolor": "white"
           },
           "zaxis": {
            "backgroundcolor": "#E5ECF6",
            "gridcolor": "white",
            "gridwidth": 2,
            "linecolor": "white",
            "showbackground": true,
            "ticks": "",
            "zerolinecolor": "white"
           }
          },
          "shapedefaults": {
           "line": {
            "color": "#2a3f5f"
           }
          },
          "ternary": {
           "aaxis": {
            "gridcolor": "white",
            "linecolor": "white",
            "ticks": ""
           },
           "baxis": {
            "gridcolor": "white",
            "linecolor": "white",
            "ticks": ""
           },
           "bgcolor": "#E5ECF6",
           "caxis": {
            "gridcolor": "white",
            "linecolor": "white",
            "ticks": ""
           }
          },
          "title": {
           "x": 0.05
          },
          "xaxis": {
           "automargin": true,
           "gridcolor": "white",
           "linecolor": "white",
           "ticks": "",
           "title": {
            "standoff": 15
           },
           "zerolinecolor": "white",
           "zerolinewidth": 2
          },
          "yaxis": {
           "automargin": true,
           "gridcolor": "white",
           "linecolor": "white",
           "ticks": "",
           "title": {
            "standoff": 15
           },
           "zerolinecolor": "white",
           "zerolinewidth": 2
          }
         }
        },
        "title": {
         "text": "Optimization History Plot"
        },
        "xaxis": {
         "autorange": true,
         "range": [
          -2.7443854634544707,
          49.74438546345447
         ],
         "title": {
          "text": "#Trials"
         },
         "type": "linear"
        },
        "yaxis": {
         "autorange": true,
         "range": [
          0.8892734223490308,
          0.9158620065564562
         ],
         "title": {
          "text": "Objective Value"
         },
         "type": "linear"
        }
       }
      },
      "image/png": "[encoded data removed]",
      "text/html": [
       "<div>\n",
       "        \n",
       "        \n",
       "            <div id=\"35a242ee-e404-49a9-9231-8041cdb8fef5\" class=\"plotly-graph-div\" style=\"height:525px; width:100%;\"></div>\n",
       "            <script type=\"text/javascript\">\n",
       "                require([\"plotly\"], function(Plotly) {\n",
       "                    window.PLOTLYENV=window.PLOTLYENV || {};\n",
       "                    \n",
       "                if (document.getElementById(\"35a242ee-e404-49a9-9231-8041cdb8fef5\")) {\n",
       "                    Plotly.newPlot(\n",
       "                        '35a242ee-e404-49a9-9231-8041cdb8fef5',\n",
       "                        [{\"mode\": \"markers\", \"name\": \"Objective Value\", \"type\": \"scatter\", \"x\": [0, 1, 2, 3, 4, 5, 6, 7, 8, 9, 10, 11, 12, 13, 14, 15, 16, 17, 18, 19, 20, 21, 22, 23, 24, 25, 26, 27, 28, 29, 30, 31, 32, 33, 34, 35, 36, 37, 38, 39, 40, 41, 42, 43, 44, 45, 46, 47], \"y\": [0.9043324589729309, 0.8921064734458923, 0.9138738512992859, 0.9095865488052368, 0.8909721374511719, 0.9021564722061157, 0.9065873622894287, 0.9028884172439575, 0.9043951034545898, 0.9124869108200073, 0.9119154214859009, 0.9111975431442261, 0.9135259985923767, 0.9138994216918945, 0.9128581285476685, 0.911446750164032, 0.9130810499191284, 0.9132376909255981, 0.9097302556037903, 0.9140841364860535, 0.9104295969009399, 0.9135795831680298, 0.9133985638618469, 0.9136864542961121, 0.9130751490592957, 0.9141632914543152, 0.9132378697395325, 0.9131138920783997, 0.9131157994270325, 0.9131247401237488, 0.913316011428833, 0.9135462641716003, 0.9122735261917114, 0.9139237999916077, 0.9125915169715881, 0.9134629368782043, 0.9122740030288696, 0.9134899973869324, 0.9124114513397217, 0.8959360122680664, 0.9105924963951111, 0.9128015041351318, 0.9133131504058838, 0.9133950471878052, 0.9133020639419556, 0.9135527610778809, 0.9136495590209961, 0.91310715675354]}, {\"name\": \"Best Value\", \"type\": \"scatter\", \"x\": [0, 1, 2, 3, 4, 5, 6, 7, 8, 9, 10, 11, 12, 13, 14, 15, 16, 17, 18, 19, 20, 21, 22, 23, 24, 25, 26, 27, 28, 29, 30, 31, 32, 33, 34, 35, 36, 37, 38, 39, 40, 41, 42, 43, 44, 45, 46, 47], \"y\": [0.9043324589729309, 0.9043324589729309, 0.9138738512992859, 0.9138738512992859, 0.9138738512992859, 0.9138738512992859, 0.9138738512992859, 0.9138738512992859, 0.9138738512992859, 0.9138738512992859, 0.9138738512992859, 0.9138738512992859, 0.9138738512992859, 0.9138994216918945, 0.9138994216918945, 0.9138994216918945, 0.9138994216918945, 0.9138994216918945, 0.9138994216918945, 0.9140841364860535, 0.9140841364860535, 0.9140841364860535, 0.9140841364860535, 0.9140841364860535, 0.9140841364860535, 0.9141632914543152, 0.9141632914543152, 0.9141632914543152, 0.9141632914543152, 0.9141632914543152, 0.9141632914543152, 0.9141632914543152, 0.9141632914543152, 0.9141632914543152, 0.9141632914543152, 0.9141632914543152, 0.9141632914543152, 0.9141632914543152, 0.9141632914543152, 0.9141632914543152, 0.9141632914543152, 0.9141632914543152, 0.9141632914543152, 0.9141632914543152, 0.9141632914543152, 0.9141632914543152, 0.9141632914543152, 0.9141632914543152]}],\n",
       "                        {\"template\": {\"data\": {\"bar\": [{\"error_x\": {\"color\": \"#2a3f5f\"}, \"error_y\": {\"color\": \"#2a3f5f\"}, \"marker\": {\"line\": {\"color\": \"#E5ECF6\", \"width\": 0.5}}, \"type\": \"bar\"}], \"barpolar\": [{\"marker\": {\"line\": {\"color\": \"#E5ECF6\", \"width\": 0.5}}, \"type\": \"barpolar\"}], \"carpet\": [{\"aaxis\": {\"endlinecolor\": \"#2a3f5f\", \"gridcolor\": \"white\", \"linecolor\": \"white\", \"minorgridcolor\": \"white\", \"startlinecolor\": \"#2a3f5f\"}, \"baxis\": {\"endlinecolor\": \"#2a3f5f\", \"gridcolor\": \"white\", \"linecolor\": \"white\", \"minorgridcolor\": \"white\", \"startlinecolor\": \"#2a3f5f\"}, \"type\": \"carpet\"}], \"choropleth\": [{\"colorbar\": {\"outlinewidth\": 0, \"ticks\": \"\"}, \"type\": \"choropleth\"}], \"contour\": [{\"colorbar\": {\"outlinewidth\": 0, \"ticks\": \"\"}, \"colorscale\": [[0.0, \"#0d0887\"], [0.1111111111111111, \"#46039f\"], [0.2222222222222222, \"#7201a8\"], [0.3333333333333333, \"#9c179e\"], [0.4444444444444444, \"#bd3786\"], [0.5555555555555556, \"#d8576b\"], [0.6666666666666666, \"#ed7953\"], [0.7777777777777778, \"#fb9f3a\"], [0.8888888888888888, \"#fdca26\"], [1.0, \"#f0f921\"]], \"type\": \"contour\"}], \"contourcarpet\": [{\"colorbar\": {\"outlinewidth\": 0, \"ticks\": \"\"}, \"type\": \"contourcarpet\"}], \"heatmap\": [{\"colorbar\": {\"outlinewidth\": 0, \"ticks\": \"\"}, \"colorscale\": [[0.0, \"#0d0887\"], [0.1111111111111111, \"#46039f\"], [0.2222222222222222, \"#7201a8\"], [0.3333333333333333, \"#9c179e\"], [0.4444444444444444, \"#bd3786\"], [0.5555555555555556, \"#d8576b\"], [0.6666666666666666, \"#ed7953\"], [0.7777777777777778, \"#fb9f3a\"], [0.8888888888888888, \"#fdca26\"], [1.0, \"#f0f921\"]], \"type\": \"heatmap\"}], \"heatmapgl\": [{\"colorbar\": {\"outlinewidth\": 0, \"ticks\": \"\"}, \"colorscale\": [[0.0, \"#0d0887\"], [0.1111111111111111, \"#46039f\"], [0.2222222222222222, \"#7201a8\"], [0.3333333333333333, \"#9c179e\"], [0.4444444444444444, \"#bd3786\"], [0.5555555555555556, \"#d8576b\"], [0.6666666666666666, \"#ed7953\"], [0.7777777777777778, \"#fb9f3a\"], [0.8888888888888888, \"#fdca26\"], [1.0, \"#f0f921\"]], \"type\": \"heatmapgl\"}], \"histogram\": [{\"marker\": {\"colorbar\": {\"outlinewidth\": 0, \"ticks\": \"\"}}, \"type\": \"histogram\"}], \"histogram2d\": [{\"colorbar\": {\"outlinewidth\": 0, \"ticks\": \"\"}, \"colorscale\": [[0.0, \"#0d0887\"], [0.1111111111111111, \"#46039f\"], [0.2222222222222222, \"#7201a8\"], [0.3333333333333333, \"#9c179e\"], [0.4444444444444444, \"#bd3786\"], [0.5555555555555556, \"#d8576b\"], [0.6666666666666666, \"#ed7953\"], [0.7777777777777778, \"#fb9f3a\"], [0.8888888888888888, \"#fdca26\"], [1.0, \"#f0f921\"]], \"type\": \"histogram2d\"}], \"histogram2dcontour\": [{\"colorbar\": {\"outlinewidth\": 0, \"ticks\": \"\"}, \"colorscale\": [[0.0, \"#0d0887\"], [0.1111111111111111, \"#46039f\"], [0.2222222222222222, \"#7201a8\"], [0.3333333333333333, \"#9c179e\"], [0.4444444444444444, \"#bd3786\"], [0.5555555555555556, \"#d8576b\"], [0.6666666666666666, \"#ed7953\"], [0.7777777777777778, \"#fb9f3a\"], [0.8888888888888888, \"#fdca26\"], [1.0, \"#f0f921\"]], \"type\": \"histogram2dcontour\"}], \"mesh3d\": [{\"colorbar\": {\"outlinewidth\": 0, \"ticks\": \"\"}, \"type\": \"mesh3d\"}], \"parcoords\": [{\"line\": {\"colorbar\": {\"outlinewidth\": 0, \"ticks\": \"\"}}, \"type\": \"parcoords\"}], \"pie\": [{\"automargin\": true, \"type\": \"pie\"}], \"scatter\": [{\"marker\": {\"colorbar\": {\"outlinewidth\": 0, \"ticks\": \"\"}}, \"type\": \"scatter\"}], \"scatter3d\": [{\"line\": {\"colorbar\": {\"outlinewidth\": 0, \"ticks\": \"\"}}, \"marker\": {\"colorbar\": {\"outlinewidth\": 0, \"ticks\": \"\"}}, \"type\": \"scatter3d\"}], \"scattercarpet\": [{\"marker\": {\"colorbar\": {\"outlinewidth\": 0, \"ticks\": \"\"}}, \"type\": \"scattercarpet\"}], \"scattergeo\": [{\"marker\": {\"colorbar\": {\"outlinewidth\": 0, \"ticks\": \"\"}}, \"type\": \"scattergeo\"}], \"scattergl\": [{\"marker\": {\"colorbar\": {\"outlinewidth\": 0, \"ticks\": \"\"}}, \"type\": \"scattergl\"}], \"scattermapbox\": [{\"marker\": {\"colorbar\": {\"outlinewidth\": 0, \"ticks\": \"\"}}, \"type\": \"scattermapbox\"}], \"scatterpolar\": [{\"marker\": {\"colorbar\": {\"outlinewidth\": 0, \"ticks\": \"\"}}, \"type\": \"scatterpolar\"}], \"scatterpolargl\": [{\"marker\": {\"colorbar\": {\"outlinewidth\": 0, \"ticks\": \"\"}}, \"type\": \"scatterpolargl\"}], \"scatterternary\": [{\"marker\": {\"colorbar\": {\"outlinewidth\": 0, \"ticks\": \"\"}}, \"type\": \"scatterternary\"}], \"surface\": [{\"colorbar\": {\"outlinewidth\": 0, \"ticks\": \"\"}, \"colorscale\": [[0.0, \"#0d0887\"], [0.1111111111111111, \"#46039f\"], [0.2222222222222222, \"#7201a8\"], [0.3333333333333333, \"#9c179e\"], [0.4444444444444444, \"#bd3786\"], [0.5555555555555556, \"#d8576b\"], [0.6666666666666666, \"#ed7953\"], [0.7777777777777778, \"#fb9f3a\"], [0.8888888888888888, \"#fdca26\"], [1.0, \"#f0f921\"]], \"type\": \"surface\"}], \"table\": [{\"cells\": {\"fill\": {\"color\": \"#EBF0F8\"}, \"line\": {\"color\": \"white\"}}, \"header\": {\"fill\": {\"color\": \"#C8D4E3\"}, \"line\": {\"color\": \"white\"}}, \"type\": \"table\"}]}, \"layout\": {\"annotationdefaults\": {\"arrowcolor\": \"#2a3f5f\", \"arrowhead\": 0, \"arrowwidth\": 1}, \"coloraxis\": {\"colorbar\": {\"outlinewidth\": 0, \"ticks\": \"\"}}, \"colorscale\": {\"diverging\": [[0, \"#8e0152\"], [0.1, \"#c51b7d\"], [0.2, \"#de77ae\"], [0.3, \"#f1b6da\"], [0.4, \"#fde0ef\"], [0.5, \"#f7f7f7\"], [0.6, \"#e6f5d0\"], [0.7, \"#b8e186\"], [0.8, \"#7fbc41\"], [0.9, \"#4d9221\"], [1, \"#276419\"]], \"sequential\": [[0.0, \"#0d0887\"], [0.1111111111111111, \"#46039f\"], [0.2222222222222222, \"#7201a8\"], [0.3333333333333333, \"#9c179e\"], [0.4444444444444444, \"#bd3786\"], [0.5555555555555556, \"#d8576b\"], [0.6666666666666666, \"#ed7953\"], [0.7777777777777778, \"#fb9f3a\"], [0.8888888888888888, \"#fdca26\"], [1.0, \"#f0f921\"]], \"sequentialminus\": [[0.0, \"#0d0887\"], [0.1111111111111111, \"#46039f\"], [0.2222222222222222, \"#7201a8\"], [0.3333333333333333, \"#9c179e\"], [0.4444444444444444, \"#bd3786\"], [0.5555555555555556, \"#d8576b\"], [0.6666666666666666, \"#ed7953\"], [0.7777777777777778, \"#fb9f3a\"], [0.8888888888888888, \"#fdca26\"], [1.0, \"#f0f921\"]]}, \"colorway\": [\"#636efa\", \"#EF553B\", \"#00cc96\", \"#ab63fa\", \"#FFA15A\", \"#19d3f3\", \"#FF6692\", \"#B6E880\", \"#FF97FF\", \"#FECB52\"], \"font\": {\"color\": \"#2a3f5f\"}, \"geo\": {\"bgcolor\": \"white\", \"lakecolor\": \"white\", \"landcolor\": \"#E5ECF6\", \"showlakes\": true, \"showland\": true, \"subunitcolor\": \"white\"}, \"hoverlabel\": {\"align\": \"left\"}, \"hovermode\": \"closest\", \"mapbox\": {\"style\": \"light\"}, \"paper_bgcolor\": \"white\", \"plot_bgcolor\": \"#E5ECF6\", \"polar\": {\"angularaxis\": {\"gridcolor\": \"white\", \"linecolor\": \"white\", \"ticks\": \"\"}, \"bgcolor\": \"#E5ECF6\", \"radialaxis\": {\"gridcolor\": \"white\", \"linecolor\": \"white\", \"ticks\": \"\"}}, \"scene\": {\"xaxis\": {\"backgroundcolor\": \"#E5ECF6\", \"gridcolor\": \"white\", \"gridwidth\": 2, \"linecolor\": \"white\", \"showbackground\": true, \"ticks\": \"\", \"zerolinecolor\": \"white\"}, \"yaxis\": {\"backgroundcolor\": \"#E5ECF6\", \"gridcolor\": \"white\", \"gridwidth\": 2, \"linecolor\": \"white\", \"showbackground\": true, \"ticks\": \"\", \"zerolinecolor\": \"white\"}, \"zaxis\": {\"backgroundcolor\": \"#E5ECF6\", \"gridcolor\": \"white\", \"gridwidth\": 2, \"linecolor\": \"white\", \"showbackground\": true, \"ticks\": \"\", \"zerolinecolor\": \"white\"}}, \"shapedefaults\": {\"line\": {\"color\": \"#2a3f5f\"}}, \"ternary\": {\"aaxis\": {\"gridcolor\": \"white\", \"linecolor\": \"white\", \"ticks\": \"\"}, \"baxis\": {\"gridcolor\": \"white\", \"linecolor\": \"white\", \"ticks\": \"\"}, \"bgcolor\": \"#E5ECF6\", \"caxis\": {\"gridcolor\": \"white\", \"linecolor\": \"white\", \"ticks\": \"\"}}, \"title\": {\"x\": 0.05}, \"xaxis\": {\"automargin\": true, \"gridcolor\": \"white\", \"linecolor\": \"white\", \"ticks\": \"\", \"title\": {\"standoff\": 15}, \"zerolinecolor\": \"white\", \"zerolinewidth\": 2}, \"yaxis\": {\"automargin\": true, \"gridcolor\": \"white\", \"linecolor\": \"white\", \"ticks\": \"\", \"title\": {\"standoff\": 15}, \"zerolinecolor\": \"white\", \"zerolinewidth\": 2}}}, \"title\": {\"text\": \"Optimization History Plot\"}, \"xaxis\": {\"title\": {\"text\": \"#Trials\"}}, \"yaxis\": {\"title\": {\"text\": \"Objective Value\"}}},\n",
       "                        {\"responsive\": true}\n",
       "                    ).then(function(){\n",
       "                            \n",
       "var gd = document.getElementById('35a242ee-e404-49a9-9231-8041cdb8fef5');\n",
       "var x = new MutationObserver(function (mutations, observer) {{\n",
       "        var display = window.getComputedStyle(gd).display;\n",
       "        if (!display || display === 'none') {{\n",
       "            console.log([gd, 'removed!']);\n",
       "            Plotly.purge(gd);\n",
       "            observer.disconnect();\n",
       "        }}\n",
       "}});\n",
       "\n",
       "// Listen for the removal of the full notebook cells\n",
       "var notebookContainer = gd.closest('#notebook-container');\n",
       "if (notebookContainer) {{\n",
       "    x.observe(notebookContainer, {childList: true});\n",
       "}}\n",
       "\n",
       "// Listen for the clearing of the current output cell\n",
       "var outputEl = gd.closest('.output');\n",
       "if (outputEl) {{\n",
       "    x.observe(outputEl, {childList: true});\n",
       "}}\n",
       "\n",
       "                        })\n",
       "                };\n",
       "                });\n",
       "            </script>\n",
       "        </div>"
      ]
     },
     "metadata": {},
     "output_type": "display_data"
    }
   ],
   "source": [
    "from optuna.visualization import plot_optimization_history\n",
    "\n",
    "plot_optimization_history(study)"
   ]
  },
  {
   "cell_type": "code",
   "execution_count": 122,
   "id": "bfeb6273",
   "metadata": {},
   "outputs": [
    {
     "data": {
      "text/plain": [
       "{'n_blocks': 8, 'lr': 0.0018001684078559576, 'hf': 0.4153062827320591}"
      ]
     },
     "execution_count": 122,
     "metadata": {},
     "output_type": "execute_result"
    }
   ],
   "source": [
    "study.best_params"
   ]
  },
  {
   "cell_type": "code",
   "execution_count": 123,
   "id": "be72e146",
   "metadata": {},
   "outputs": [
    {
     "data": {
      "text/plain": [
       "FrozenTrial(number=25, value=0.9141632914543152, datetime_start=datetime.datetime(2021, 7, 24, 13, 34, 44, 299322), datetime_complete=datetime.datetime(2021, 7, 24, 13, 38, 47, 806006), params={'n_blocks': 8, 'lr': 0.0018001684078559576, 'hf': 0.4153062827320591}, distributions={'n_blocks': IntUniformDistribution(high=10, low=1, step=1), 'lr': LogUniformDistribution(high=0.01, low=1e-05), 'hf': UniformDistribution(high=0.5, low=0)}, user_attrs={}, system_attrs={}, intermediate_values={}, trial_id=25, state=TrialState.COMPLETE)"
      ]
     },
     "execution_count": 123,
     "metadata": {},
     "output_type": "execute_result"
    }
   ],
   "source": [
    "study.best_trial"
   ]
  },
  {
   "cell_type": "code",
   "execution_count": 89,
   "id": "87b64e4b",
   "metadata": {},
   "outputs": [],
   "source": [
    "with strategy.scope():\n",
    "    model = ModelResidual(n_blocks = 8)"
   ]
  },
  {
   "cell_type": "code",
   "execution_count": 90,
   "id": "ed2e2c7d",
   "metadata": {},
   "outputs": [
    {
     "name": "stdout",
     "output_type": "stream",
     "text": [
      "Epoch 1/100\n",
      "WARNING:tensorflow:Unresolved object in checkpoint: (root).optimizer.iter\n",
      "WARNING:tensorflow:Unresolved object in checkpoint: (root).optimizer.beta_1\n",
      "WARNING:tensorflow:Unresolved object in checkpoint: (root).optimizer.beta_2\n",
      "WARNING:tensorflow:Unresolved object in checkpoint: (root).optimizer.decay\n",
      "WARNING:tensorflow:Unresolved object in checkpoint: (root).optimizer.learning_rate\n",
      "WARNING:tensorflow:Unresolved object in checkpoint: (root).optimizer's state 'm' for (root).bn.gamma\n",
      "WARNING:tensorflow:Unresolved object in checkpoint: (root).optimizer's state 'm' for (root).bn.beta\n",
      "WARNING:tensorflow:Unresolved object in checkpoint: (root).optimizer's state 'm' for (root).out.kernel\n",
      "WARNING:tensorflow:Unresolved object in checkpoint: (root).optimizer's state 'm' for (root).out.bias\n",
      "WARNING:tensorflow:Unresolved object in checkpoint: (root).optimizer's state 'm' for (root).hidden.0.bn1.gamma\n",
      "WARNING:tensorflow:Unresolved object in checkpoint: (root).optimizer's state 'm' for (root).hidden.0.bn1.beta\n",
      "WARNING:tensorflow:Unresolved object in checkpoint: (root).optimizer's state 'm' for (root).hidden.0.dense1.kernel\n",
      "WARNING:tensorflow:Unresolved object in checkpoint: (root).optimizer's state 'm' for (root).hidden.0.dense1.bias\n",
      "WARNING:tensorflow:Unresolved object in checkpoint: (root).optimizer's state 'm' for (root).hidden.0.dense2.kernel\n",
      "WARNING:tensorflow:Unresolved object in checkpoint: (root).optimizer's state 'm' for (root).hidden.0.dense2.bias\n",
      "WARNING:tensorflow:Unresolved object in checkpoint: (root).optimizer's state 'm' for (root).hidden.1.bn1.gamma\n",
      "WARNING:tensorflow:Unresolved object in checkpoint: (root).optimizer's state 'm' for (root).hidden.1.bn1.beta\n",
      "WARNING:tensorflow:Unresolved object in checkpoint: (root).optimizer's state 'm' for (root).hidden.1.dense1.kernel\n",
      "WARNING:tensorflow:Unresolved object in checkpoint: (root).optimizer's state 'm' for (root).hidden.1.dense1.bias\n",
      "WARNING:tensorflow:Unresolved object in checkpoint: (root).optimizer's state 'm' for (root).hidden.1.dense2.kernel\n",
      "WARNING:tensorflow:Unresolved object in checkpoint: (root).optimizer's state 'm' for (root).hidden.1.dense2.bias\n",
      "WARNING:tensorflow:Unresolved object in checkpoint: (root).optimizer's state 'm' for (root).hidden.2.bn1.gamma\n",
      "WARNING:tensorflow:Unresolved object in checkpoint: (root).optimizer's state 'm' for (root).hidden.2.bn1.beta\n",
      "WARNING:tensorflow:Unresolved object in checkpoint: (root).optimizer's state 'm' for (root).hidden.2.dense1.kernel\n",
      "WARNING:tensorflow:Unresolved object in checkpoint: (root).optimizer's state 'm' for (root).hidden.2.dense1.bias\n",
      "WARNING:tensorflow:Unresolved object in checkpoint: (root).optimizer's state 'm' for (root).hidden.2.dense2.kernel\n",
      "WARNING:tensorflow:Unresolved object in checkpoint: (root).optimizer's state 'm' for (root).hidden.2.dense2.bias\n",
      "WARNING:tensorflow:Unresolved object in checkpoint: (root).optimizer's state 'm' for (root).hidden.3.bn1.gamma\n",
      "WARNING:tensorflow:Unresolved object in checkpoint: (root).optimizer's state 'm' for (root).hidden.3.bn1.beta\n",
      "WARNING:tensorflow:Unresolved object in checkpoint: (root).optimizer's state 'm' for (root).hidden.3.dense1.kernel\n",
      "WARNING:tensorflow:Unresolved object in checkpoint: (root).optimizer's state 'm' for (root).hidden.3.dense1.bias\n",
      "WARNING:tensorflow:Unresolved object in checkpoint: (root).optimizer's state 'm' for (root).hidden.3.dense2.kernel\n",
      "WARNING:tensorflow:Unresolved object in checkpoint: (root).optimizer's state 'm' for (root).hidden.3.dense2.bias\n",
      "WARNING:tensorflow:Unresolved object in checkpoint: (root).optimizer's state 'm' for (root).hidden.4.bn1.gamma\n",
      "WARNING:tensorflow:Unresolved object in checkpoint: (root).optimizer's state 'm' for (root).hidden.4.bn1.beta\n",
      "WARNING:tensorflow:Unresolved object in checkpoint: (root).optimizer's state 'm' for (root).hidden.4.dense1.kernel\n",
      "WARNING:tensorflow:Unresolved object in checkpoint: (root).optimizer's state 'm' for (root).hidden.4.dense1.bias\n",
      "WARNING:tensorflow:Unresolved object in checkpoint: (root).optimizer's state 'm' for (root).hidden.4.dense2.kernel\n",
      "WARNING:tensorflow:Unresolved object in checkpoint: (root).optimizer's state 'm' for (root).hidden.4.dense2.bias\n",
      "WARNING:tensorflow:Unresolved object in checkpoint: (root).optimizer's state 'v' for (root).bn.gamma\n",
      "WARNING:tensorflow:Unresolved object in checkpoint: (root).optimizer's state 'v' for (root).bn.beta\n",
      "WARNING:tensorflow:Unresolved object in checkpoint: (root).optimizer's state 'v' for (root).out.kernel\n",
      "WARNING:tensorflow:Unresolved object in checkpoint: (root).optimizer's state 'v' for (root).out.bias\n",
      "WARNING:tensorflow:Unresolved object in checkpoint: (root).optimizer's state 'v' for (root).hidden.0.bn1.gamma\n",
      "WARNING:tensorflow:Unresolved object in checkpoint: (root).optimizer's state 'v' for (root).hidden.0.bn1.beta\n",
      "WARNING:tensorflow:Unresolved object in checkpoint: (root).optimizer's state 'v' for (root).hidden.0.dense1.kernel\n",
      "WARNING:tensorflow:Unresolved object in checkpoint: (root).optimizer's state 'v' for (root).hidden.0.dense1.bias\n",
      "WARNING:tensorflow:Unresolved object in checkpoint: (root).optimizer's state 'v' for (root).hidden.0.dense2.kernel\n",
      "WARNING:tensorflow:Unresolved object in checkpoint: (root).optimizer's state 'v' for (root).hidden.0.dense2.bias\n",
      "WARNING:tensorflow:Unresolved object in checkpoint: (root).optimizer's state 'v' for (root).hidden.1.bn1.gamma\n",
      "WARNING:tensorflow:Unresolved object in checkpoint: (root).optimizer's state 'v' for (root).hidden.1.bn1.beta\n",
      "WARNING:tensorflow:Unresolved object in checkpoint: (root).optimizer's state 'v' for (root).hidden.1.dense1.kernel\n",
      "WARNING:tensorflow:Unresolved object in checkpoint: (root).optimizer's state 'v' for (root).hidden.1.dense1.bias\n",
      "WARNING:tensorflow:Unresolved object in checkpoint: (root).optimizer's state 'v' for (root).hidden.1.dense2.kernel\n",
      "WARNING:tensorflow:Unresolved object in checkpoint: (root).optimizer's state 'v' for (root).hidden.1.dense2.bias\n",
      "WARNING:tensorflow:Unresolved object in checkpoint: (root).optimizer's state 'v' for (root).hidden.2.bn1.gamma\n",
      "WARNING:tensorflow:Unresolved object in checkpoint: (root).optimizer's state 'v' for (root).hidden.2.bn1.beta\n",
      "WARNING:tensorflow:Unresolved object in checkpoint: (root).optimizer's state 'v' for (root).hidden.2.dense1.kernel\n",
      "WARNING:tensorflow:Unresolved object in checkpoint: (root).optimizer's state 'v' for (root).hidden.2.dense1.bias\n",
      "WARNING:tensorflow:Unresolved object in checkpoint: (root).optimizer's state 'v' for (root).hidden.2.dense2.kernel\n",
      "WARNING:tensorflow:Unresolved object in checkpoint: (root).optimizer's state 'v' for (root).hidden.2.dense2.bias\n",
      "WARNING:tensorflow:Unresolved object in checkpoint: (root).optimizer's state 'v' for (root).hidden.3.bn1.gamma\n",
      "WARNING:tensorflow:Unresolved object in checkpoint: (root).optimizer's state 'v' for (root).hidden.3.bn1.beta\n",
      "WARNING:tensorflow:Unresolved object in checkpoint: (root).optimizer's state 'v' for (root).hidden.3.dense1.kernel\n",
      "WARNING:tensorflow:Unresolved object in checkpoint: (root).optimizer's state 'v' for (root).hidden.3.dense1.bias\n",
      "WARNING:tensorflow:Unresolved object in checkpoint: (root).optimizer's state 'v' for (root).hidden.3.dense2.kernel\n",
      "WARNING:tensorflow:Unresolved object in checkpoint: (root).optimizer's state 'v' for (root).hidden.3.dense2.bias\n",
      "WARNING:tensorflow:Unresolved object in checkpoint: (root).optimizer's state 'v' for (root).hidden.4.bn1.gamma\n",
      "WARNING:tensorflow:Unresolved object in checkpoint: (root).optimizer's state 'v' for (root).hidden.4.bn1.beta\n",
      "WARNING:tensorflow:Unresolved object in checkpoint: (root).optimizer's state 'v' for (root).hidden.4.dense1.kernel\n",
      "WARNING:tensorflow:Unresolved object in checkpoint: (root).optimizer's state 'v' for (root).hidden.4.dense1.bias\n",
      "WARNING:tensorflow:Unresolved object in checkpoint: (root).optimizer's state 'v' for (root).hidden.4.dense2.kernel\n",
      "WARNING:tensorflow:Unresolved object in checkpoint: (root).optimizer's state 'v' for (root).hidden.4.dense2.bias\n",
      "WARNING:tensorflow:A checkpoint was restored (e.g. tf.train.Checkpoint.restore or tf.keras.Model.load_weights) but not all checkpointed values were used. See above for specific issues. Use expect_partial() on the load status object, e.g. tf.train.Checkpoint.restore(...).expect_partial(), to silence these warnings, or use assert_consumed() to make the check explicit. See https://www.tensorflow.org/guide/checkpoint#loading_mechanics for details.\n",
      "WARNING:tensorflow:Unresolved object in checkpoint: (root).optimizer.iter\n",
      "WARNING:tensorflow:Unresolved object in checkpoint: (root).optimizer.beta_1\n",
      "WARNING:tensorflow:Unresolved object in checkpoint: (root).optimizer.beta_2\n",
      "WARNING:tensorflow:Unresolved object in checkpoint: (root).optimizer.decay\n",
      "WARNING:tensorflow:Unresolved object in checkpoint: (root).optimizer.learning_rate\n",
      "WARNING:tensorflow:Unresolved object in checkpoint: (root).optimizer's state 'm' for (root).bn.gamma\n",
      "WARNING:tensorflow:Unresolved object in checkpoint: (root).optimizer's state 'm' for (root).bn.beta\n",
      "WARNING:tensorflow:Unresolved object in checkpoint: (root).optimizer's state 'm' for (root).out.kernel\n",
      "WARNING:tensorflow:Unresolved object in checkpoint: (root).optimizer's state 'm' for (root).out.bias\n",
      "WARNING:tensorflow:Unresolved object in checkpoint: (root).optimizer's state 'm' for (root).hidden.0.bn1.gamma\n",
      "WARNING:tensorflow:Unresolved object in checkpoint: (root).optimizer's state 'm' for (root).hidden.0.bn1.beta\n",
      "WARNING:tensorflow:Unresolved object in checkpoint: (root).optimizer's state 'm' for (root).hidden.0.dense1.kernel\n",
      "WARNING:tensorflow:Unresolved object in checkpoint: (root).optimizer's state 'm' for (root).hidden.0.dense1.bias\n",
      "WARNING:tensorflow:Unresolved object in checkpoint: (root).optimizer's state 'm' for (root).hidden.0.dense2.kernel\n",
      "WARNING:tensorflow:Unresolved object in checkpoint: (root).optimizer's state 'm' for (root).hidden.0.dense2.bias\n",
      "WARNING:tensorflow:Unresolved object in checkpoint: (root).optimizer's state 'm' for (root).hidden.1.bn1.gamma\n",
      "WARNING:tensorflow:Unresolved object in checkpoint: (root).optimizer's state 'm' for (root).hidden.1.bn1.beta\n",
      "WARNING:tensorflow:Unresolved object in checkpoint: (root).optimizer's state 'm' for (root).hidden.1.dense1.kernel\n",
      "WARNING:tensorflow:Unresolved object in checkpoint: (root).optimizer's state 'm' for (root).hidden.1.dense1.bias\n",
      "WARNING:tensorflow:Unresolved object in checkpoint: (root).optimizer's state 'm' for (root).hidden.1.dense2.kernel\n",
      "WARNING:tensorflow:Unresolved object in checkpoint: (root).optimizer's state 'm' for (root).hidden.1.dense2.bias\n",
      "WARNING:tensorflow:Unresolved object in checkpoint: (root).optimizer's state 'm' for (root).hidden.2.bn1.gamma\n",
      "WARNING:tensorflow:Unresolved object in checkpoint: (root).optimizer's state 'm' for (root).hidden.2.bn1.beta\n",
      "WARNING:tensorflow:Unresolved object in checkpoint: (root).optimizer's state 'm' for (root).hidden.2.dense1.kernel\n",
      "WARNING:tensorflow:Unresolved object in checkpoint: (root).optimizer's state 'm' for (root).hidden.2.dense1.bias\n",
      "WARNING:tensorflow:Unresolved object in checkpoint: (root).optimizer's state 'm' for (root).hidden.2.dense2.kernel\n",
      "WARNING:tensorflow:Unresolved object in checkpoint: (root).optimizer's state 'm' for (root).hidden.2.dense2.bias\n",
      "WARNING:tensorflow:Unresolved object in checkpoint: (root).optimizer's state 'm' for (root).hidden.3.bn1.gamma\n",
      "WARNING:tensorflow:Unresolved object in checkpoint: (root).optimizer's state 'm' for (root).hidden.3.bn1.beta\n",
      "WARNING:tensorflow:Unresolved object in checkpoint: (root).optimizer's state 'm' for (root).hidden.3.dense1.kernel\n",
      "WARNING:tensorflow:Unresolved object in checkpoint: (root).optimizer's state 'm' for (root).hidden.3.dense1.bias\n",
      "WARNING:tensorflow:Unresolved object in checkpoint: (root).optimizer's state 'm' for (root).hidden.3.dense2.kernel\n",
      "WARNING:tensorflow:Unresolved object in checkpoint: (root).optimizer's state 'm' for (root).hidden.3.dense2.bias\n",
      "WARNING:tensorflow:Unresolved object in checkpoint: (root).optimizer's state 'v' for (root).bn.gamma\n",
      "WARNING:tensorflow:Unresolved object in checkpoint: (root).optimizer's state 'v' for (root).bn.beta\n",
      "WARNING:tensorflow:Unresolved object in checkpoint: (root).optimizer's state 'v' for (root).out.kernel\n",
      "WARNING:tensorflow:Unresolved object in checkpoint: (root).optimizer's state 'v' for (root).out.bias\n",
      "WARNING:tensorflow:Unresolved object in checkpoint: (root).optimizer's state 'v' for (root).hidden.0.bn1.gamma\n",
      "WARNING:tensorflow:Unresolved object in checkpoint: (root).optimizer's state 'v' for (root).hidden.0.bn1.beta\n",
      "WARNING:tensorflow:Unresolved object in checkpoint: (root).optimizer's state 'v' for (root).hidden.0.dense1.kernel\n",
      "WARNING:tensorflow:Unresolved object in checkpoint: (root).optimizer's state 'v' for (root).hidden.0.dense1.bias\n",
      "WARNING:tensorflow:Unresolved object in checkpoint: (root).optimizer's state 'v' for (root).hidden.0.dense2.kernel\n",
      "WARNING:tensorflow:Unresolved object in checkpoint: (root).optimizer's state 'v' for (root).hidden.0.dense2.bias\n",
      "WARNING:tensorflow:Unresolved object in checkpoint: (root).optimizer's state 'v' for (root).hidden.1.bn1.gamma\n",
      "WARNING:tensorflow:Unresolved object in checkpoint: (root).optimizer's state 'v' for (root).hidden.1.bn1.beta\n",
      "WARNING:tensorflow:Unresolved object in checkpoint: (root).optimizer's state 'v' for (root).hidden.1.dense1.kernel\n",
      "WARNING:tensorflow:Unresolved object in checkpoint: (root).optimizer's state 'v' for (root).hidden.1.dense1.bias\n",
      "WARNING:tensorflow:Unresolved object in checkpoint: (root).optimizer's state 'v' for (root).hidden.1.dense2.kernel\n",
      "WARNING:tensorflow:Unresolved object in checkpoint: (root).optimizer's state 'v' for (root).hidden.1.dense2.bias\n",
      "WARNING:tensorflow:Unresolved object in checkpoint: (root).optimizer's state 'v' for (root).hidden.2.bn1.gamma\n",
      "WARNING:tensorflow:Unresolved object in checkpoint: (root).optimizer's state 'v' for (root).hidden.2.bn1.beta\n",
      "WARNING:tensorflow:Unresolved object in checkpoint: (root).optimizer's state 'v' for (root).hidden.2.dense1.kernel\n",
      "WARNING:tensorflow:Unresolved object in checkpoint: (root).optimizer's state 'v' for (root).hidden.2.dense1.bias\n",
      "WARNING:tensorflow:Unresolved object in checkpoint: (root).optimizer's state 'v' for (root).hidden.2.dense2.kernel\n",
      "WARNING:tensorflow:Unresolved object in checkpoint: (root).optimizer's state 'v' for (root).hidden.2.dense2.bias\n",
      "WARNING:tensorflow:Unresolved object in checkpoint: (root).optimizer's state 'v' for (root).hidden.3.bn1.gamma\n",
      "WARNING:tensorflow:Unresolved object in checkpoint: (root).optimizer's state 'v' for (root).hidden.3.bn1.beta\n",
      "WARNING:tensorflow:Unresolved object in checkpoint: (root).optimizer's state 'v' for (root).hidden.3.dense1.kernel\n",
      "WARNING:tensorflow:Unresolved object in checkpoint: (root).optimizer's state 'v' for (root).hidden.3.dense1.bias\n",
      "WARNING:tensorflow:Unresolved object in checkpoint: (root).optimizer's state 'v' for (root).hidden.3.dense2.kernel\n",
      "WARNING:tensorflow:Unresolved object in checkpoint: (root).optimizer's state 'v' for (root).hidden.3.dense2.bias\n",
      "WARNING:tensorflow:A checkpoint was restored (e.g. tf.train.Checkpoint.restore or tf.keras.Model.load_weights) but not all checkpointed values were used. See above for specific issues. Use expect_partial() on the load status object, e.g. tf.train.Checkpoint.restore(...).expect_partial(), to silence these warnings, or use assert_consumed() to make the check explicit. See https://www.tensorflow.org/guide/checkpoint#loading_mechanics for details.\n",
      "876/879 [============================>.] - ETA: 0s - loss: 0.4450 - auc: 0.8538\n",
      "Epoch 00001: val_auc improved from -inf to 0.89672, saving model to model_res\n",
      "879/879 [==============================] - 7s 8ms/step - loss: 0.4448 - auc: 0.8540 - val_loss: 0.3793 - val_auc: 0.8967\n",
      "Epoch 2/100\n",
      "878/879 [============================>.] - ETA: 0s - loss: 0.3944 - auc: 0.8877\n",
      "Epoch 00002: val_auc improved from 0.89672 to 0.90239, saving model to model_res\n",
      "879/879 [==============================] - 7s 8ms/step - loss: 0.3944 - auc: 0.8877 - val_loss: 0.3697 - val_auc: 0.9024\n",
      "Epoch 3/100\n",
      "877/879 [============================>.] - ETA: 0s - loss: 0.3843 - auc: 0.8939\n",
      "Epoch 00003: val_auc improved from 0.90239 to 0.90479, saving model to model_res\n",
      "879/879 [==============================] - 7s 7ms/step - loss: 0.3843 - auc: 0.8939 - val_loss: 0.3654 - val_auc: 0.9048\n",
      "Epoch 4/100\n",
      "872/879 [============================>.] - ETA: 0s - loss: 0.3793 - auc: 0.8968\n",
      "Epoch 00004: val_auc improved from 0.90479 to 0.90694, saving model to model_res\n",
      "879/879 [==============================] - 7s 7ms/step - loss: 0.3791 - auc: 0.8969 - val_loss: 0.3613 - val_auc: 0.9069\n",
      "Epoch 5/100\n",
      "876/879 [============================>.] - ETA: 0s - loss: 0.3759 - auc: 0.8988\n",
      "Epoch 00005: val_auc did not improve from 0.90694\n",
      "879/879 [==============================] - 6s 7ms/step - loss: 0.3758 - auc: 0.8989 - val_loss: 0.3609 - val_auc: 0.9068\n",
      "Epoch 6/100\n",
      "875/879 [============================>.] - ETA: 0s - loss: 0.3729 - auc: 0.9006\n",
      "Epoch 00006: val_auc improved from 0.90694 to 0.90721, saving model to model_res\n",
      "879/879 [==============================] - 6s 7ms/step - loss: 0.3731 - auc: 0.9005 - val_loss: 0.3629 - val_auc: 0.9072\n",
      "Epoch 7/100\n",
      "873/879 [============================>.] - ETA: 0s - loss: 0.3707 - auc: 0.9018\n",
      "Epoch 00007: val_auc improved from 0.90721 to 0.90965, saving model to model_res\n",
      "879/879 [==============================] - 6s 7ms/step - loss: 0.3708 - auc: 0.9018 - val_loss: 0.3559 - val_auc: 0.9096\n",
      "Epoch 8/100\n",
      "878/879 [============================>.] - ETA: 0s - loss: 0.3694 - auc: 0.9025\n",
      "Epoch 00008: val_auc did not improve from 0.90965\n",
      "879/879 [==============================] - 6s 7ms/step - loss: 0.3694 - auc: 0.9025 - val_loss: 0.3563 - val_auc: 0.9095\n",
      "Epoch 9/100\n",
      "872/879 [============================>.] - ETA: 0s - loss: 0.3684 - auc: 0.9033\n",
      "Epoch 00009: val_auc did not improve from 0.90965\n",
      "879/879 [==============================] - 6s 7ms/step - loss: 0.3681 - auc: 0.9034 - val_loss: 0.3575 - val_auc: 0.9087\n",
      "Epoch 10/100\n",
      "872/879 [============================>.] - ETA: 0s - loss: 0.3666 - auc: 0.9041\n",
      "Epoch 00010: val_auc did not improve from 0.90965\n",
      "879/879 [==============================] - 6s 7ms/step - loss: 0.3668 - auc: 0.9040 - val_loss: 0.3560 - val_auc: 0.9095\n",
      "Epoch 11/100\n",
      "873/879 [============================>.] - ETA: 0s - loss: 0.3661 - auc: 0.9044\n",
      "Epoch 00011: val_auc improved from 0.90965 to 0.91030, saving model to model_res\n",
      "879/879 [==============================] - 7s 8ms/step - loss: 0.3660 - auc: 0.9044 - val_loss: 0.3550 - val_auc: 0.9103\n",
      "Epoch 12/100\n",
      "879/879 [==============================] - ETA: 0s - loss: 0.3655 - auc: 0.9047\n",
      "Epoch 00012: val_auc improved from 0.91030 to 0.91070, saving model to model_res\n",
      "879/879 [==============================] - 7s 7ms/step - loss: 0.3655 - auc: 0.9047 - val_loss: 0.3547 - val_auc: 0.9107\n",
      "Epoch 13/100\n",
      "879/879 [==============================] - ETA: 0s - loss: 0.3641 - auc: 0.9055\n",
      "Epoch 00013: val_auc did not improve from 0.91070\n",
      "879/879 [==============================] - 7s 7ms/step - loss: 0.3641 - auc: 0.9055 - val_loss: 0.3546 - val_auc: 0.9102\n",
      "Epoch 14/100\n",
      "876/879 [============================>.] - ETA: 0s - loss: 0.3643 - auc: 0.9053\n",
      "Epoch 00014: val_auc improved from 0.91070 to 0.91124, saving model to model_res\n",
      "879/879 [==============================] - 7s 8ms/step - loss: 0.3642 - auc: 0.9054 - val_loss: 0.3542 - val_auc: 0.9112\n",
      "Epoch 15/100\n",
      "875/879 [============================>.] - ETA: 0s - loss: 0.3627 - auc: 0.9063\n",
      "Epoch 00015: val_auc improved from 0.91124 to 0.91140, saving model to model_res\n",
      "879/879 [==============================] - 7s 8ms/step - loss: 0.3628 - auc: 0.9062 - val_loss: 0.3530 - val_auc: 0.9114\n",
      "Epoch 16/100\n",
      "877/879 [============================>.] - ETA: 0s - loss: 0.3633 - auc: 0.9060\n",
      "Epoch 00016: val_auc did not improve from 0.91140\n",
      "879/879 [==============================] - 6s 7ms/step - loss: 0.3633 - auc: 0.9059 - val_loss: 0.3536 - val_auc: 0.9107\n",
      "Epoch 17/100\n",
      "873/879 [============================>.] - ETA: 0s - loss: 0.3616 - auc: 0.9068\n",
      "Epoch 00017: val_auc did not improve from 0.91140\n",
      "879/879 [==============================] - 6s 7ms/step - loss: 0.3615 - auc: 0.9069 - val_loss: 0.3540 - val_auc: 0.9108\n",
      "Epoch 18/100\n",
      "872/879 [============================>.] - ETA: 0s - loss: 0.3614 - auc: 0.9070\n",
      "Epoch 00018: val_auc did not improve from 0.91140\n",
      "879/879 [==============================] - 6s 7ms/step - loss: 0.3614 - auc: 0.9071 - val_loss: 0.3532 - val_auc: 0.9110\n",
      "Epoch 19/100\n",
      "879/879 [==============================] - ETA: 0s - loss: 0.3609 - auc: 0.9072\n",
      "Epoch 00019: val_auc improved from 0.91140 to 0.91163, saving model to model_res\n",
      "879/879 [==============================] - 7s 7ms/step - loss: 0.3609 - auc: 0.9072 - val_loss: 0.3519 - val_auc: 0.9116\n",
      "Epoch 20/100\n",
      "876/879 [============================>.] - ETA: 0s - loss: 0.3604 - auc: 0.9075\n",
      "Epoch 00020: val_auc improved from 0.91163 to 0.91164, saving model to model_res\n",
      "879/879 [==============================] - 7s 7ms/step - loss: 0.3605 - auc: 0.9074 - val_loss: 0.3524 - val_auc: 0.9116\n",
      "Epoch 21/100\n",
      "873/879 [============================>.] - ETA: 0s - loss: 0.3602 - auc: 0.9076\n",
      "Epoch 00021: val_auc improved from 0.91164 to 0.91198, saving model to model_res\n",
      "879/879 [==============================] - 6s 7ms/step - loss: 0.3602 - auc: 0.9076 - val_loss: 0.3513 - val_auc: 0.9120\n",
      "Epoch 22/100\n",
      "877/879 [============================>.] - ETA: 0s - loss: 0.3600 - auc: 0.9077\n",
      "Epoch 00022: val_auc did not improve from 0.91198\n",
      "879/879 [==============================] - 6s 7ms/step - loss: 0.3600 - auc: 0.9077 - val_loss: 0.3515 - val_auc: 0.9119\n",
      "Epoch 23/100\n",
      "879/879 [==============================] - ETA: 0s - loss: 0.3591 - auc: 0.9082\n",
      "Epoch 00023: val_auc improved from 0.91198 to 0.91265, saving model to model_res\n",
      "879/879 [==============================] - 7s 7ms/step - loss: 0.3591 - auc: 0.9082 - val_loss: 0.3506 - val_auc: 0.9127\n",
      "Epoch 24/100\n",
      "876/879 [============================>.] - ETA: 0s - loss: 0.3593 - auc: 0.9081\n",
      "Epoch 00024: val_auc did not improve from 0.91265\n",
      "879/879 [==============================] - 6s 7ms/step - loss: 0.3593 - auc: 0.9081 - val_loss: 0.3507 - val_auc: 0.9125\n",
      "Epoch 25/100\n",
      "873/879 [============================>.] - ETA: 0s - loss: 0.3593 - auc: 0.9081\n",
      "Epoch 00025: val_auc did not improve from 0.91265\n",
      "879/879 [==============================] - 6s 7ms/step - loss: 0.3592 - auc: 0.9082 - val_loss: 0.3518 - val_auc: 0.9119\n",
      "Epoch 26/100\n",
      "879/879 [==============================] - ETA: 0s - loss: 0.3581 - auc: 0.9087\n",
      "Epoch 00026: val_auc did not improve from 0.91265\n",
      "879/879 [==============================] - 6s 7ms/step - loss: 0.3581 - auc: 0.9087 - val_loss: 0.3513 - val_auc: 0.9118\n",
      "Epoch 27/100\n",
      "878/879 [============================>.] - ETA: 0s - loss: 0.3580 - auc: 0.9089\n",
      "Epoch 00027: val_auc did not improve from 0.91265\n",
      "879/879 [==============================] - 6s 7ms/step - loss: 0.3579 - auc: 0.9089 - val_loss: 0.3508 - val_auc: 0.9122\n",
      "Epoch 28/100\n",
      "878/879 [============================>.] - ETA: 0s - loss: 0.3581 - auc: 0.9088\n",
      "Epoch 00028: val_auc did not improve from 0.91265\n",
      "879/879 [==============================] - 6s 7ms/step - loss: 0.3581 - auc: 0.9088 - val_loss: 0.3502 - val_auc: 0.9126\n",
      "Epoch 29/100\n",
      "873/879 [============================>.] - ETA: 0s - loss: 0.3578 - auc: 0.9089\n",
      "Epoch 00029: val_auc did not improve from 0.91265\n",
      "879/879 [==============================] - 6s 7ms/step - loss: 0.3579 - auc: 0.9088 - val_loss: 0.3514 - val_auc: 0.9117\n",
      "Epoch 30/100\n",
      "878/879 [============================>.] - ETA: 0s - loss: 0.3568 - auc: 0.9094\n",
      "Epoch 00030: val_auc did not improve from 0.91265\n",
      "879/879 [==============================] - 6s 7ms/step - loss: 0.3569 - auc: 0.9094 - val_loss: 0.3512 - val_auc: 0.9120\n",
      "Epoch 31/100\n",
      "872/879 [============================>.] - ETA: 0s - loss: 0.3576 - auc: 0.9090\n",
      "Epoch 00031: val_auc did not improve from 0.91265\n",
      "879/879 [==============================] - 6s 7ms/step - loss: 0.3575 - auc: 0.9091 - val_loss: 0.3504 - val_auc: 0.9123\n",
      "Epoch 32/100\n",
      "877/879 [============================>.] - ETA: 0s - loss: 0.3569 - auc: 0.9094\n",
      "Epoch 00032: val_auc did not improve from 0.91265\n",
      "879/879 [==============================] - 6s 7ms/step - loss: 0.3570 - auc: 0.9093 - val_loss: 0.3502 - val_auc: 0.9125\n",
      "Epoch 33/100\n",
      "876/879 [============================>.] - ETA: 0s - loss: 0.3566 - auc: 0.9095\n",
      "Epoch 00033: val_auc did not improve from 0.91265\n",
      "879/879 [==============================] - 6s 7ms/step - loss: 0.3567 - auc: 0.9094 - val_loss: 0.3510 - val_auc: 0.9122\n",
      "Epoch 34/100\n",
      "872/879 [============================>.] - ETA: 0s - loss: 0.3564 - auc: 0.9096\n",
      "Epoch 00034: val_auc improved from 0.91265 to 0.91278, saving model to model_res\n",
      "879/879 [==============================] - 6s 7ms/step - loss: 0.3563 - auc: 0.9097 - val_loss: 0.3497 - val_auc: 0.9128\n",
      "Epoch 35/100\n",
      "874/879 [============================>.] - ETA: 0s - loss: 0.3560 - auc: 0.9098\n",
      "Epoch 00035: val_auc did not improve from 0.91278\n",
      "879/879 [==============================] - 6s 7ms/step - loss: 0.3561 - auc: 0.9098 - val_loss: 0.3505 - val_auc: 0.9124\n",
      "Epoch 36/100\n",
      "875/879 [============================>.] - ETA: 0s - loss: 0.3563 - auc: 0.9097\n",
      "Epoch 00036: val_auc did not improve from 0.91278\n",
      "879/879 [==============================] - 6s 7ms/step - loss: 0.3562 - auc: 0.9098 - val_loss: 0.3507 - val_auc: 0.9121\n",
      "Epoch 37/100\n",
      "874/879 [============================>.] - ETA: 0s - loss: 0.3555 - auc: 0.9102\n",
      "Epoch 00037: val_auc did not improve from 0.91278\n",
      "879/879 [==============================] - 6s 7ms/step - loss: 0.3555 - auc: 0.9102 - val_loss: 0.3506 - val_auc: 0.9125\n",
      "Epoch 38/100\n",
      "876/879 [============================>.] - ETA: 0s - loss: 0.3558 - auc: 0.9100\n",
      "Epoch 00038: val_auc improved from 0.91278 to 0.91278, saving model to model_res\n",
      "879/879 [==============================] - 7s 7ms/step - loss: 0.3557 - auc: 0.9100 - val_loss: 0.3500 - val_auc: 0.9128\n",
      "Epoch 39/100\n",
      "873/879 [============================>.] - ETA: 0s - loss: 0.3551 - auc: 0.9103\n",
      "Epoch 00039: val_auc improved from 0.91278 to 0.91316, saving model to model_res\n",
      "879/879 [==============================] - 7s 7ms/step - loss: 0.3551 - auc: 0.9103 - val_loss: 0.3488 - val_auc: 0.9132\n",
      "Epoch 40/100\n",
      "876/879 [============================>.] - ETA: 0s - loss: 0.3546 - auc: 0.9106\n",
      "Epoch 00040: val_auc did not improve from 0.91316\n",
      "879/879 [==============================] - 6s 7ms/step - loss: 0.3545 - auc: 0.9107 - val_loss: 0.3503 - val_auc: 0.9124\n",
      "Epoch 41/100\n",
      "876/879 [============================>.] - ETA: 0s - loss: 0.3557 - auc: 0.9101\n",
      "Epoch 00041: val_auc did not improve from 0.91316\n",
      "879/879 [==============================] - 6s 7ms/step - loss: 0.3556 - auc: 0.9101 - val_loss: 0.3503 - val_auc: 0.9124\n",
      "Epoch 42/100\n",
      "877/879 [============================>.] - ETA: 0s - loss: 0.3551 - auc: 0.9104\n",
      "Epoch 00042: val_auc did not improve from 0.91316\n",
      "879/879 [==============================] - 6s 7ms/step - loss: 0.3552 - auc: 0.9103 - val_loss: 0.3500 - val_auc: 0.9127\n",
      "Epoch 43/100\n",
      "875/879 [============================>.] - ETA: 0s - loss: 0.3542 - auc: 0.9108\n",
      "Epoch 00043: val_auc did not improve from 0.91316\n",
      "879/879 [==============================] - 6s 7ms/step - loss: 0.3543 - auc: 0.9107 - val_loss: 0.3499 - val_auc: 0.9127\n",
      "Epoch 44/100\n",
      "879/879 [==============================] - ETA: 0s - loss: 0.3550 - auc: 0.9104\n",
      "Epoch 00044: val_auc did not improve from 0.91316\n",
      "879/879 [==============================] - 6s 7ms/step - loss: 0.3550 - auc: 0.9104 - val_loss: 0.3498 - val_auc: 0.9131\n",
      "Epoch 45/100\n",
      "872/879 [============================>.] - ETA: 0s - loss: 0.3537 - auc: 0.9111\n",
      "Epoch 00045: val_auc did not improve from 0.91316\n",
      "879/879 [==============================] - 6s 7ms/step - loss: 0.3539 - auc: 0.9110 - val_loss: 0.3499 - val_auc: 0.9127\n",
      "Epoch 46/100\n",
      "878/879 [============================>.] - ETA: 0s - loss: 0.3540 - auc: 0.9109\n",
      "Epoch 00046: val_auc did not improve from 0.91316\n",
      "879/879 [==============================] - 6s 7ms/step - loss: 0.3540 - auc: 0.9109 - val_loss: 0.3493 - val_auc: 0.9131\n",
      "Epoch 47/100\n",
      "879/879 [==============================] - ETA: 0s - loss: 0.3548 - auc: 0.9104\n",
      "Epoch 00047: val_auc did not improve from 0.91316\n",
      "879/879 [==============================] - 6s 7ms/step - loss: 0.3548 - auc: 0.9104 - val_loss: 0.3509 - val_auc: 0.9121\n",
      "Epoch 48/100\n",
      "874/879 [============================>.] - ETA: 0s - loss: 0.3539 - auc: 0.9110\n",
      "Epoch 00048: val_auc did not improve from 0.91316\n",
      "879/879 [==============================] - 6s 7ms/step - loss: 0.3540 - auc: 0.9109 - val_loss: 0.3511 - val_auc: 0.9121\n",
      "Epoch 49/100\n",
      "876/879 [============================>.] - ETA: 0s - loss: 0.3535 - auc: 0.9112\n",
      "Epoch 00049: val_auc did not improve from 0.91316\n",
      "879/879 [==============================] - 6s 7ms/step - loss: 0.3534 - auc: 0.9113 - val_loss: 0.3511 - val_auc: 0.9123\n",
      "Epoch 50/100\n",
      "877/879 [============================>.] - ETA: 0s - loss: 0.3534 - auc: 0.9113\n",
      "Epoch 00050: val_auc did not improve from 0.91316\n",
      "879/879 [==============================] - 6s 7ms/step - loss: 0.3534 - auc: 0.9112 - val_loss: 0.3496 - val_auc: 0.9130\n",
      "Epoch 51/100\n",
      "875/879 [============================>.] - ETA: 0s - loss: 0.3533 - auc: 0.9113\n",
      "Epoch 00051: val_auc did not improve from 0.91316\n",
      "879/879 [==============================] - 6s 7ms/step - loss: 0.3533 - auc: 0.9113 - val_loss: 0.3501 - val_auc: 0.9126\n",
      "Epoch 52/100\n",
      "878/879 [============================>.] - ETA: 0s - loss: 0.3530 - auc: 0.9114\n",
      "Epoch 00052: val_auc did not improve from 0.91316\n",
      "879/879 [==============================] - 6s 7ms/step - loss: 0.3531 - auc: 0.9114 - val_loss: 0.3512 - val_auc: 0.9120\n",
      "Epoch 53/100\n",
      "872/879 [============================>.] - ETA: 0s - loss: 0.3528 - auc: 0.9115\n",
      "Epoch 00053: val_auc did not improve from 0.91316\n",
      "879/879 [==============================] - 6s 7ms/step - loss: 0.3529 - auc: 0.9115 - val_loss: 0.3496 - val_auc: 0.9129\n",
      "Epoch 54/100\n",
      "874/879 [============================>.] - ETA: 0s - loss: 0.3535 - auc: 0.9112\n",
      "Epoch 00054: val_auc did not improve from 0.91316\n",
      "879/879 [==============================] - 6s 7ms/step - loss: 0.3535 - auc: 0.9112 - val_loss: 0.3501 - val_auc: 0.9126\n",
      "Epoch 55/100\n",
      "875/879 [============================>.] - ETA: 0s - loss: 0.3526 - auc: 0.9117Restoring model weights from the end of the best epoch.\n",
      "\n",
      "Epoch 00055: val_auc did not improve from 0.91316\n",
      "879/879 [==============================] - 6s 7ms/step - loss: 0.3526 - auc: 0.9117 - val_loss: 0.3511 - val_auc: 0.9121\n",
      "Epoch 00055: early stopping\n"
     ]
    }
   ],
   "source": [
    "EPOCHS = 100\n",
    "\n",
    "model.compile(optimizer='adam', loss='binary_crossentropy', metrics=['AUC'])\n",
    "\n",
    "es_cbk = tf.keras.callbacks.EarlyStopping(\n",
    "    monitor=\"val_loss\",\n",
    "    patience=16,\n",
    "    verbose=1,\n",
    "    mode=\"auto\",\n",
    "    baseline=None,\n",
    "    restore_best_weights=True,\n",
    ")\n",
    "\n",
    "ck_cbk = tf.keras.callbacks.ModelCheckpoint(\n",
    "    'model_res',\n",
    "    monitor=\"val_auc\",\n",
    "    verbose=1,\n",
    "    save_best_only=True,\n",
    "    save_weights_only=True,\n",
    "    mode=\"max\",\n",
    "    save_freq=\"epoch\",\n",
    ")\n",
    "\n",
    "history = model.fit(X_train_qt, y_train_enc,  epochs = EPOCHS, validation_data = (X_valid_qt, y_valid_enc), batch_size = BATCH_SIZE,\n",
    "                   callbacks = [es_cbk, ck_cbk], verbose=1)"
   ]
  },
  {
   "cell_type": "code",
   "execution_count": null,
   "id": "76e5124b",
   "metadata": {},
   "outputs": [],
   "source": []
  }
 ],
 "metadata": {
  "kernelspec": {
   "display_name": "Python [conda env:tensorflow23_p37_gpu_v1]",
   "language": "python",
   "name": "conda-env-tensorflow23_p37_gpu_v1-py"
  },
  "language_info": {
   "codemirror_mode": {
    "name": "ipython",
    "version": 3
   },
   "file_extension": ".py",
   "mimetype": "text/x-python",
   "name": "python",
   "nbconvert_exporter": "python",
   "pygments_lexer": "ipython3",
   "version": "3.7.10"
  }
 },
 "nbformat": 4,
 "nbformat_minor": 5
}
